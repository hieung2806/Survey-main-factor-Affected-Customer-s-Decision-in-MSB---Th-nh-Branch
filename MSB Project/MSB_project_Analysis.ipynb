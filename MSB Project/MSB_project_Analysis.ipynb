{
 "cells": [
  {
   "cell_type": "code",
   "execution_count": 1,
   "id": "dcfa6da7",
   "metadata": {},
   "outputs": [],
   "source": [
    "import pandas as pd\n",
    "import numpy as np\n",
    "import matplotlib.pyplot as plt\n"
   ]
  },
  {
   "cell_type": "markdown",
   "id": "b4233fff",
   "metadata": {},
   "source": [
    "### Tải dữ liệu MSB\n"
   ]
  },
  {
   "cell_type": "markdown",
   "id": "524aea22",
   "metadata": {},
   "source": [
    "<p>Dữ liệu được lấy từ khảo sát yếu tố tác động đến quyết định gửi tiết kiệm của khách hàng cá nhân tại<strong> Ngân Hàng Thương Mại Cổ Phần Hàng Hải Việt Nam - Chi nhánh Đô Thành</strong></p>\n",
    "<img src = \"image_survey.png\"></img>\n",
    "<p> Thời gian khảo sát : <strong> 26/12/2022 đến 6/1/2023</strong></p>\n",
    "<p> Phương pháp lấy dữ liệu : <strong>Lấy mẫu với sai số 5%</strong></p>\n"
   ]
  },
  {
   "cell_type": "code",
   "execution_count": 2,
   "id": "64a8726f",
   "metadata": {},
   "outputs": [],
   "source": [
    "data = pd.read_excel(\"MSB_Survey.xlsx\")"
   ]
  },
  {
   "cell_type": "code",
   "execution_count": 3,
   "id": "bf7b489c",
   "metadata": {
    "scrolled": true
   },
   "outputs": [
    {
     "data": {
      "text/html": [
       "<div>\n",
       "<style scoped>\n",
       "    .dataframe tbody tr th:only-of-type {\n",
       "        vertical-align: middle;\n",
       "    }\n",
       "\n",
       "    .dataframe tbody tr th {\n",
       "        vertical-align: top;\n",
       "    }\n",
       "\n",
       "    .dataframe thead th {\n",
       "        text-align: right;\n",
       "    }\n",
       "</style>\n",
       "<table border=\"1\" class=\"dataframe\">\n",
       "  <thead>\n",
       "    <tr style=\"text-align: right;\">\n",
       "      <th></th>\n",
       "      <th>Giới tính</th>\n",
       "      <th>Công việc hiện tại</th>\n",
       "      <th>Độ tuổi</th>\n",
       "      <th>Trình độ học vấn</th>\n",
       "      <th>Thu nhập mỗi tháng</th>\n",
       "      <th>Hình thức gửi tiết kiệm</th>\n",
       "      <th>Kỳ hạn gửi tiết kiệm</th>\n",
       "      <th>UTTH1</th>\n",
       "      <th>UTTH2</th>\n",
       "      <th>UTTH3</th>\n",
       "      <th>...</th>\n",
       "      <th>CSKH4</th>\n",
       "      <th>CTKM1</th>\n",
       "      <th>CTKM2</th>\n",
       "      <th>CTKM3</th>\n",
       "      <th>CTKM4</th>\n",
       "      <th>CTKM5</th>\n",
       "      <th>QD1</th>\n",
       "      <th>QD2</th>\n",
       "      <th>QD3</th>\n",
       "      <th>QD4</th>\n",
       "    </tr>\n",
       "  </thead>\n",
       "  <tbody>\n",
       "    <tr>\n",
       "      <th>0</th>\n",
       "      <td>Nam</td>\n",
       "      <td>Nhân viên hành chính</td>\n",
       "      <td>18-30</td>\n",
       "      <td>Sau đại học</td>\n",
       "      <td>Từ 10 đến 15 triệu</td>\n",
       "      <td>Tiền gửi tiết kiệm MSB</td>\n",
       "      <td>Dưới 1 năm</td>\n",
       "      <td>5</td>\n",
       "      <td>5</td>\n",
       "      <td>5</td>\n",
       "      <td>...</td>\n",
       "      <td>5</td>\n",
       "      <td>5</td>\n",
       "      <td>5</td>\n",
       "      <td>5</td>\n",
       "      <td>5</td>\n",
       "      <td>5</td>\n",
       "      <td>5</td>\n",
       "      <td>5</td>\n",
       "      <td>5</td>\n",
       "      <td>5</td>\n",
       "    </tr>\n",
       "    <tr>\n",
       "      <th>1</th>\n",
       "      <td>Nữ</td>\n",
       "      <td>Nhân viên hành chính</td>\n",
       "      <td>18-30</td>\n",
       "      <td>Đại học</td>\n",
       "      <td>Dưới 10 triệu</td>\n",
       "      <td>Tiền gửi có kì hạn online cá nhân</td>\n",
       "      <td>Dưới 1 năm</td>\n",
       "      <td>3</td>\n",
       "      <td>3</td>\n",
       "      <td>3</td>\n",
       "      <td>...</td>\n",
       "      <td>3</td>\n",
       "      <td>3</td>\n",
       "      <td>5</td>\n",
       "      <td>5</td>\n",
       "      <td>3</td>\n",
       "      <td>3</td>\n",
       "      <td>3</td>\n",
       "      <td>3</td>\n",
       "      <td>3</td>\n",
       "      <td>3</td>\n",
       "    </tr>\n",
       "    <tr>\n",
       "      <th>2</th>\n",
       "      <td>Nữ</td>\n",
       "      <td>Nhân viên hành chính</td>\n",
       "      <td>18-30</td>\n",
       "      <td>Đại học</td>\n",
       "      <td>Dưới 10 triệu</td>\n",
       "      <td>Tiền gửi tích lũy</td>\n",
       "      <td>Dưới 1 năm</td>\n",
       "      <td>4</td>\n",
       "      <td>3</td>\n",
       "      <td>4</td>\n",
       "      <td>...</td>\n",
       "      <td>4</td>\n",
       "      <td>5</td>\n",
       "      <td>5</td>\n",
       "      <td>4</td>\n",
       "      <td>4</td>\n",
       "      <td>5</td>\n",
       "      <td>1</td>\n",
       "      <td>3</td>\n",
       "      <td>5</td>\n",
       "      <td>4</td>\n",
       "    </tr>\n",
       "    <tr>\n",
       "      <th>3</th>\n",
       "      <td>Nữ</td>\n",
       "      <td>Nhân viên hành chính</td>\n",
       "      <td>18-30</td>\n",
       "      <td>Đại học</td>\n",
       "      <td>Từ 10 đến 15 triệu</td>\n",
       "      <td>Tiền gửi có kì hạn online cá nhân</td>\n",
       "      <td>Dưới 1 năm</td>\n",
       "      <td>4</td>\n",
       "      <td>4</td>\n",
       "      <td>4</td>\n",
       "      <td>...</td>\n",
       "      <td>4</td>\n",
       "      <td>5</td>\n",
       "      <td>4</td>\n",
       "      <td>3</td>\n",
       "      <td>4</td>\n",
       "      <td>4</td>\n",
       "      <td>4</td>\n",
       "      <td>4</td>\n",
       "      <td>4</td>\n",
       "      <td>5</td>\n",
       "    </tr>\n",
       "    <tr>\n",
       "      <th>4</th>\n",
       "      <td>Nam</td>\n",
       "      <td>Điều hành, quản lý</td>\n",
       "      <td>31- 40</td>\n",
       "      <td>Đại học</td>\n",
       "      <td>Trên 20 triệu</td>\n",
       "      <td>Tiền gửi thanh toán</td>\n",
       "      <td>Dưới 1 năm</td>\n",
       "      <td>4</td>\n",
       "      <td>4</td>\n",
       "      <td>4</td>\n",
       "      <td>...</td>\n",
       "      <td>4</td>\n",
       "      <td>4</td>\n",
       "      <td>5</td>\n",
       "      <td>4</td>\n",
       "      <td>4</td>\n",
       "      <td>4</td>\n",
       "      <td>4</td>\n",
       "      <td>4</td>\n",
       "      <td>4</td>\n",
       "      <td>4</td>\n",
       "    </tr>\n",
       "  </tbody>\n",
       "</table>\n",
       "<p>5 rows × 46 columns</p>\n",
       "</div>"
      ],
      "text/plain": [
       "  Giới tính     Công việc hiện tại Độ tuổi  Trình độ học vấn   \\\n",
       "0       Nam   Nhân viên hành chính    18-30       Sau đại học   \n",
       "1        Nữ   Nhân viên hành chính    18-30           Đại học   \n",
       "2        Nữ   Nhân viên hành chính    18-30           Đại học   \n",
       "3        Nữ   Nhân viên hành chính    18-30           Đại học   \n",
       "4       Nam     Điều hành, quản lý   31- 40           Đại học   \n",
       "\n",
       "   Thu nhập mỗi tháng             Hình thức gửi tiết kiệm  \\\n",
       "0  Từ 10 đến 15 triệu              Tiền gửi tiết kiệm MSB   \n",
       "1       Dưới 10 triệu   Tiền gửi có kì hạn online cá nhân   \n",
       "2       Dưới 10 triệu                   Tiền gửi tích lũy   \n",
       "3  Từ 10 đến 15 triệu   Tiền gửi có kì hạn online cá nhân   \n",
       "4       Trên 20 triệu                 Tiền gửi thanh toán   \n",
       "\n",
       "  Kỳ hạn gửi tiết kiệm  UTTH1  UTTH2  UTTH3  ...  CSKH4  CTKM1  CTKM2  CTKM3  \\\n",
       "0           Dưới 1 năm      5      5      5  ...      5      5      5      5   \n",
       "1           Dưới 1 năm      3      3      3  ...      3      3      5      5   \n",
       "2           Dưới 1 năm      4      3      4  ...      4      5      5      4   \n",
       "3           Dưới 1 năm      4      4      4  ...      4      5      4      3   \n",
       "4           Dưới 1 năm      4      4      4  ...      4      4      5      4   \n",
       "\n",
       "   CTKM4  CTKM5  QD1  QD2  QD3  QD4  \n",
       "0      5      5    5    5    5    5  \n",
       "1      3      3    3    3    3    3  \n",
       "2      4      5    1    3    5    4  \n",
       "3      4      4    4    4    4    5  \n",
       "4      4      4    4    4    4    4  \n",
       "\n",
       "[5 rows x 46 columns]"
      ]
     },
     "execution_count": 3,
     "metadata": {},
     "output_type": "execute_result"
    }
   ],
   "source": [
    "data.head()"
   ]
  },
  {
   "cell_type": "markdown",
   "id": "53309f8a",
   "metadata": {},
   "source": [
    "### Cắt dữ liệu \n",
    "\n"
   ]
  },
  {
   "cell_type": "markdown",
   "id": "ee69c55e",
   "metadata": {},
   "source": [
    "<strong> Cắt dữ liệu ra thành hai phần: </strong>\n",
    "<table>\n",
    "    <tr>\n",
    "        <th>Đặc trưng</th>\n",
    "        <th>Mục tiêu</th>\n",
    "    </tr>\n",
    "    <tr>\n",
    "        <td>Nhân khẩu học</td>\n",
    "        <td><i>Phân cụm khách hàng thành các nhóm dựa vào đặc điểm nhân khẩu học</i></td>\n",
    "    </tr>\n",
    "    <tr>\n",
    "        <td>Nhân tố tác động</td>\n",
    "        <td><i>Kiểm định thống kê và xác định các nhân tố hội tụ</i></td>\n",
    "    </tr>\n",
    "</table>\n"
   ]
  },
  {
   "cell_type": "code",
   "execution_count": 17,
   "id": "1b01c9e5",
   "metadata": {},
   "outputs": [],
   "source": [
    "\n",
    "persona_data = data.iloc[:,:7]"
   ]
  },
  {
   "cell_type": "code",
   "execution_count": 18,
   "id": "9ec3a4c9",
   "metadata": {
    "scrolled": false
   },
   "outputs": [
    {
     "data": {
      "text/html": [
       "<div>\n",
       "<style scoped>\n",
       "    .dataframe tbody tr th:only-of-type {\n",
       "        vertical-align: middle;\n",
       "    }\n",
       "\n",
       "    .dataframe tbody tr th {\n",
       "        vertical-align: top;\n",
       "    }\n",
       "\n",
       "    .dataframe thead th {\n",
       "        text-align: right;\n",
       "    }\n",
       "</style>\n",
       "<table border=\"1\" class=\"dataframe\">\n",
       "  <thead>\n",
       "    <tr style=\"text-align: right;\">\n",
       "      <th></th>\n",
       "      <th>Giới tính</th>\n",
       "      <th>Công việc hiện tại</th>\n",
       "      <th>Độ tuổi</th>\n",
       "      <th>Trình độ học vấn</th>\n",
       "      <th>Thu nhập mỗi tháng</th>\n",
       "      <th>Hình thức gửi tiết kiệm</th>\n",
       "      <th>Kỳ hạn gửi tiết kiệm</th>\n",
       "    </tr>\n",
       "  </thead>\n",
       "  <tbody>\n",
       "    <tr>\n",
       "      <th>0</th>\n",
       "      <td>Nam</td>\n",
       "      <td>Nhân viên hành chính</td>\n",
       "      <td>18-30</td>\n",
       "      <td>Sau đại học</td>\n",
       "      <td>Từ 10 đến 15 triệu</td>\n",
       "      <td>Tiền gửi tiết kiệm MSB</td>\n",
       "      <td>Dưới 1 năm</td>\n",
       "    </tr>\n",
       "    <tr>\n",
       "      <th>1</th>\n",
       "      <td>Nữ</td>\n",
       "      <td>Nhân viên hành chính</td>\n",
       "      <td>18-30</td>\n",
       "      <td>Đại học</td>\n",
       "      <td>Dưới 10 triệu</td>\n",
       "      <td>Tiền gửi có kì hạn online cá nhân</td>\n",
       "      <td>Dưới 1 năm</td>\n",
       "    </tr>\n",
       "    <tr>\n",
       "      <th>2</th>\n",
       "      <td>Nữ</td>\n",
       "      <td>Nhân viên hành chính</td>\n",
       "      <td>18-30</td>\n",
       "      <td>Đại học</td>\n",
       "      <td>Dưới 10 triệu</td>\n",
       "      <td>Tiền gửi tích lũy</td>\n",
       "      <td>Dưới 1 năm</td>\n",
       "    </tr>\n",
       "    <tr>\n",
       "      <th>3</th>\n",
       "      <td>Nữ</td>\n",
       "      <td>Nhân viên hành chính</td>\n",
       "      <td>18-30</td>\n",
       "      <td>Đại học</td>\n",
       "      <td>Từ 10 đến 15 triệu</td>\n",
       "      <td>Tiền gửi có kì hạn online cá nhân</td>\n",
       "      <td>Dưới 1 năm</td>\n",
       "    </tr>\n",
       "    <tr>\n",
       "      <th>4</th>\n",
       "      <td>Nam</td>\n",
       "      <td>Điều hành, quản lý</td>\n",
       "      <td>31- 40</td>\n",
       "      <td>Đại học</td>\n",
       "      <td>Trên 20 triệu</td>\n",
       "      <td>Tiền gửi thanh toán</td>\n",
       "      <td>Dưới 1 năm</td>\n",
       "    </tr>\n",
       "  </tbody>\n",
       "</table>\n",
       "</div>"
      ],
      "text/plain": [
       "  Giới tính     Công việc hiện tại Độ tuổi  Trình độ học vấn   \\\n",
       "0       Nam   Nhân viên hành chính    18-30       Sau đại học   \n",
       "1        Nữ   Nhân viên hành chính    18-30           Đại học   \n",
       "2        Nữ   Nhân viên hành chính    18-30           Đại học   \n",
       "3        Nữ   Nhân viên hành chính    18-30           Đại học   \n",
       "4       Nam     Điều hành, quản lý   31- 40           Đại học   \n",
       "\n",
       "   Thu nhập mỗi tháng             Hình thức gửi tiết kiệm Kỳ hạn gửi tiết kiệm  \n",
       "0  Từ 10 đến 15 triệu              Tiền gửi tiết kiệm MSB           Dưới 1 năm  \n",
       "1       Dưới 10 triệu   Tiền gửi có kì hạn online cá nhân           Dưới 1 năm  \n",
       "2       Dưới 10 triệu                   Tiền gửi tích lũy           Dưới 1 năm  \n",
       "3  Từ 10 đến 15 triệu   Tiền gửi có kì hạn online cá nhân           Dưới 1 năm  \n",
       "4       Trên 20 triệu                 Tiền gửi thanh toán           Dưới 1 năm  "
      ]
     },
     "execution_count": 18,
     "metadata": {},
     "output_type": "execute_result"
    }
   ],
   "source": [
    "persona_data.head()"
   ]
  },
  {
   "cell_type": "code",
   "execution_count": 19,
   "id": "c6c8fdb3",
   "metadata": {
    "scrolled": false
   },
   "outputs": [
    {
     "data": {
      "text/plain": [
       "Index(['Giới tính', 'Công việc hiện tại', 'Độ tuổi ', 'Trình độ học vấn ',\n",
       "       'Thu nhập mỗi tháng', 'Hình thức gửi tiết kiệm',\n",
       "       'Kỳ hạn gửi tiết kiệm'],\n",
       "      dtype='object')"
      ]
     },
     "execution_count": 19,
     "metadata": {},
     "output_type": "execute_result"
    }
   ],
   "source": [
    "persona_data.columns"
   ]
  },
  {
   "cell_type": "code",
   "execution_count": 20,
   "id": "54e3fd6e",
   "metadata": {},
   "outputs": [],
   "source": [
    "factor_data = data.drop(persona_data.columns,axis = 1)"
   ]
  },
  {
   "cell_type": "code",
   "execution_count": 21,
   "id": "fb7b71f1",
   "metadata": {},
   "outputs": [],
   "source": [
    "factor_data_analyze = factor_data.iloc[:,:35]"
   ]
  },
  {
   "cell_type": "code",
   "execution_count": 22,
   "id": "e2325c9e",
   "metadata": {},
   "outputs": [],
   "source": [
    "factor_net_promoter_score = factor_data.iloc[:,35:]"
   ]
  },
  {
   "cell_type": "code",
   "execution_count": 23,
   "id": "46b638f8",
   "metadata": {},
   "outputs": [
    {
     "data": {
      "text/html": [
       "<div>\n",
       "<style scoped>\n",
       "    .dataframe tbody tr th:only-of-type {\n",
       "        vertical-align: middle;\n",
       "    }\n",
       "\n",
       "    .dataframe tbody tr th {\n",
       "        vertical-align: top;\n",
       "    }\n",
       "\n",
       "    .dataframe thead th {\n",
       "        text-align: right;\n",
       "    }\n",
       "</style>\n",
       "<table border=\"1\" class=\"dataframe\">\n",
       "  <thead>\n",
       "    <tr style=\"text-align: right;\">\n",
       "      <th></th>\n",
       "      <th>QD1</th>\n",
       "      <th>QD2</th>\n",
       "      <th>QD3</th>\n",
       "      <th>QD4</th>\n",
       "    </tr>\n",
       "  </thead>\n",
       "  <tbody>\n",
       "    <tr>\n",
       "      <th>0</th>\n",
       "      <td>5</td>\n",
       "      <td>5</td>\n",
       "      <td>5</td>\n",
       "      <td>5</td>\n",
       "    </tr>\n",
       "    <tr>\n",
       "      <th>1</th>\n",
       "      <td>3</td>\n",
       "      <td>3</td>\n",
       "      <td>3</td>\n",
       "      <td>3</td>\n",
       "    </tr>\n",
       "    <tr>\n",
       "      <th>2</th>\n",
       "      <td>1</td>\n",
       "      <td>3</td>\n",
       "      <td>5</td>\n",
       "      <td>4</td>\n",
       "    </tr>\n",
       "    <tr>\n",
       "      <th>3</th>\n",
       "      <td>4</td>\n",
       "      <td>4</td>\n",
       "      <td>4</td>\n",
       "      <td>5</td>\n",
       "    </tr>\n",
       "    <tr>\n",
       "      <th>4</th>\n",
       "      <td>4</td>\n",
       "      <td>4</td>\n",
       "      <td>4</td>\n",
       "      <td>4</td>\n",
       "    </tr>\n",
       "  </tbody>\n",
       "</table>\n",
       "</div>"
      ],
      "text/plain": [
       "   QD1  QD2  QD3  QD4\n",
       "0    5    5    5    5\n",
       "1    3    3    3    3\n",
       "2    1    3    5    4\n",
       "3    4    4    4    5\n",
       "4    4    4    4    4"
      ]
     },
     "execution_count": 23,
     "metadata": {},
     "output_type": "execute_result"
    }
   ],
   "source": [
    "factor_net_promoter_score.head()"
   ]
  },
  {
   "cell_type": "markdown",
   "id": "54105c38",
   "metadata": {},
   "source": [
    "### Lọc dữ liệu và xử lý dữ liệu thiếu"
   ]
  },
  {
   "cell_type": "code",
   "execution_count": 24,
   "id": "900b818a",
   "metadata": {},
   "outputs": [
    {
     "data": {
      "text/plain": [
       "0"
      ]
     },
     "execution_count": 24,
     "metadata": {},
     "output_type": "execute_result"
    }
   ],
   "source": [
    "persona_data.isnull().sum().sum()"
   ]
  },
  {
   "cell_type": "code",
   "execution_count": 25,
   "id": "548ac84f",
   "metadata": {},
   "outputs": [
    {
     "data": {
      "text/plain": [
       "0"
      ]
     },
     "execution_count": 25,
     "metadata": {},
     "output_type": "execute_result"
    }
   ],
   "source": [
    "factor_net_promoter_score.isnull().sum().sum()"
   ]
  },
  {
   "cell_type": "code",
   "execution_count": 26,
   "id": "d9b27bef",
   "metadata": {},
   "outputs": [
    {
     "data": {
      "text/plain": [
       "(382, 35)"
      ]
     },
     "execution_count": 26,
     "metadata": {},
     "output_type": "execute_result"
    }
   ],
   "source": [
    "factor_data_analyze.shape"
   ]
  },
  {
   "cell_type": "code",
   "execution_count": 27,
   "id": "1441c815",
   "metadata": {},
   "outputs": [
    {
     "data": {
      "text/plain": [
       "178"
      ]
     },
     "execution_count": 27,
     "metadata": {},
     "output_type": "execute_result"
    }
   ],
   "source": [
    "factor_data_analyze.isnull().sum().sum()"
   ]
  },
  {
   "cell_type": "code",
   "execution_count": 28,
   "id": "4fb8bbe6",
   "metadata": {
    "scrolled": false
   },
   "outputs": [
    {
     "name": "stdout",
     "output_type": "stream",
     "text": [
      "<class 'pandas.core.frame.DataFrame'>\n",
      "RangeIndex: 382 entries, 0 to 381\n",
      "Data columns (total 35 columns):\n",
      " #   Column  Non-Null Count  Dtype  \n",
      "---  ------  --------------  -----  \n",
      " 0   UTTH1   382 non-null    int64  \n",
      " 1   UTTH2   382 non-null    int64  \n",
      " 2   UTTH3   382 non-null    int64  \n",
      " 3   UTTH4   382 non-null    int64  \n",
      " 4   UTTH5   382 non-null    int64  \n",
      " 5   UTTH6   382 non-null    int64  \n",
      " 6   UTTH7   382 non-null    int64  \n",
      " 7   PLS1    382 non-null    int64  \n",
      " 8   PLS2    382 non-null    int64  \n",
      " 9   PLS3    382 non-null    int64  \n",
      " 10  PLS4    382 non-null    int64  \n",
      " 11  PLS5    382 non-null    int64  \n",
      " 12  STT1    382 non-null    int64  \n",
      " 13  STT2    382 non-null    int64  \n",
      " 14  STT3    382 non-null    int64  \n",
      " 15  STT4    382 non-null    int64  \n",
      " 16  AHNT1   348 non-null    float64\n",
      " 17  AHNT2   347 non-null    float64\n",
      " 18  ANHT3   334 non-null    float64\n",
      " 19  AHNT4   346 non-null    float64\n",
      " 20  AHNT5   382 non-null    int64  \n",
      " 21  MAT1    382 non-null    int64  \n",
      " 22  MAT2    382 non-null    int64  \n",
      " 23  MAT3    357 non-null    float64\n",
      " 24  MAT4    382 non-null    int64  \n",
      " 25  MAT5    382 non-null    int64  \n",
      " 26  CSKH1   382 non-null    int64  \n",
      " 27  CSKH2   382 non-null    int64  \n",
      " 28  CSKH3   382 non-null    int64  \n",
      " 29  CSKH4   382 non-null    int64  \n",
      " 30  CTKM1   382 non-null    int64  \n",
      " 31  CTKM2   382 non-null    int64  \n",
      " 32  CTKM3   382 non-null    int64  \n",
      " 33  CTKM4   382 non-null    int64  \n",
      " 34  CTKM5   382 non-null    int64  \n",
      "dtypes: float64(5), int64(30)\n",
      "memory usage: 104.6 KB\n"
     ]
    }
   ],
   "source": [
    "factor_data_analyze.info()"
   ]
  },
  {
   "cell_type": "code",
   "execution_count": 29,
   "id": "9ac10d74",
   "metadata": {},
   "outputs": [],
   "source": [
    "factor_data_analyze.rename({\"ANHT3\":\"AHNT3\"},axis = 1, inplace = True)"
   ]
  },
  {
   "cell_type": "code",
   "execution_count": 30,
   "id": "c8469274",
   "metadata": {},
   "outputs": [],
   "source": [
    "col_fill = [\"AHNT1\",\"AHNT2\",\"AHNT3\",\"AHNT4\",\"MAT3\"]"
   ]
  },
  {
   "cell_type": "code",
   "execution_count": 31,
   "id": "14cc7197",
   "metadata": {},
   "outputs": [],
   "source": [
    "factor_data_analyze[col_fill] = factor_data_analyze[col_fill].fillna(factor_data_analyze[col_fill].median())"
   ]
  },
  {
   "cell_type": "code",
   "execution_count": 32,
   "id": "1c49797e",
   "metadata": {
    "scrolled": true
   },
   "outputs": [
    {
     "data": {
      "text/plain": [
       "0"
      ]
     },
     "execution_count": 32,
     "metadata": {},
     "output_type": "execute_result"
    }
   ],
   "source": [
    "factor_data_analyze.isnull().sum().sum()"
   ]
  },
  {
   "cell_type": "markdown",
   "id": "3da62d4e",
   "metadata": {},
   "source": [
    "### Khám phá dữ liệu\n"
   ]
  },
  {
   "cell_type": "code",
   "execution_count": 33,
   "id": "c54278fc",
   "metadata": {},
   "outputs": [],
   "source": [
    "def addlabels(x,y):\n",
    "    for i in range(len(x)):\n",
    "        plt.text(i, y[i]//2,y[i], ha = 'center', bbox=dict(facecolor='white', alpha=0.5)) # thêm số vào bar chart\n",
    "\n",
    "my_color = [\"deepskyblue\", \"lightcoral\"]"
   ]
  },
  {
   "cell_type": "code",
   "execution_count": 34,
   "id": "64fe42cb",
   "metadata": {},
   "outputs": [],
   "source": [
    "def absolute_value_GT(val):\n",
    "    a  = np.round((val/100*persona_data['Giới tính'].value_counts().sum()), 0)\n",
    "    percentage = np.round(a/persona_data['Giới tính'].value_counts().sum() *100,1)\n",
    "    return percentage # thêm số vào pie chart"
   ]
  },
  {
   "cell_type": "code",
   "execution_count": 35,
   "id": "b328c11d",
   "metadata": {
    "scrolled": false
   },
   "outputs": [
    {
     "data": {
      "text/plain": [
       " Nữ     237\n",
       " Nam    145\n",
       "Name: Giới tính, dtype: int64"
      ]
     },
     "execution_count": 35,
     "metadata": {},
     "output_type": "execute_result"
    }
   ],
   "source": [
    "persona_data['Giới tính'].value_counts()"
   ]
  },
  {
   "cell_type": "code",
   "execution_count": 36,
   "id": "af7f3878",
   "metadata": {},
   "outputs": [],
   "source": [
    "label = ['Nữ','Nam']"
   ]
  },
  {
   "cell_type": "code",
   "execution_count": 37,
   "id": "f0dfe9e2",
   "metadata": {
    "scrolled": true
   },
   "outputs": [
    {
     "data": {
      "image/png": "[encoded data removed]",
      "text/plain": [
       "<Figure size 640x480 with 1 Axes>"
      ]
     },
     "metadata": {},
     "output_type": "display_data"
    }
   ],
   "source": [
    "plt.pie(persona_data['Giới tính'].value_counts(),labels = label, colors = my_color,autopct='%1.1f%%'.format(absolute_value_GT), )\n",
    "plt.title(\"Khảo sát tỉ lệ giới tính khách hàng \") \n",
    "plt.axis('equal')\n",
    "plt.show()\n"
   ]
  },
  {
   "cell_type": "markdown",
   "id": "a0cf2079",
   "metadata": {},
   "source": [
    "<strong><u>Nhận xét</u></strong>\n",
    "<p>Khách hàng trong khảo sát có  237 Khách hàng là Nữ (chiếm 62%) và 145 Khách hàng là Nam (chiếm 38%)</p>"
   ]
  },
  {
   "cell_type": "code",
   "execution_count": 38,
   "id": "9029172b",
   "metadata": {},
   "outputs": [
    {
     "data": {
      "text/plain": [
       " Nhân viên hành chính    159\n",
       " Tự doanh                120\n",
       " Công nhân viên chức      53\n",
       " Điều hành, quản lý       50\n",
       "Name: Công việc hiện tại, dtype: int64"
      ]
     },
     "execution_count": 38,
     "metadata": {},
     "output_type": "execute_result"
    }
   ],
   "source": [
    "persona_data['Công việc hiện tại'].value_counts()"
   ]
  },
  {
   "cell_type": "code",
   "execution_count": 39,
   "id": "427a0985",
   "metadata": {
    "scrolled": true
   },
   "outputs": [
    {
     "data": {
      "image/png": "[encoded data removed]",
      "text/plain": [
       "<Figure size 2000x200 with 1 Axes>"
      ]
     },
     "metadata": {},
     "output_type": "display_data"
    }
   ],
   "source": [
    "bar_color = ['deepskyblue','red','yellow','green']\n",
    "job_label = [\"Nhân viên hành chính\", \"Tự doanh\",\"Công nhân viên chức\", \"Điều hành, Quản lý\"]\n",
    "fig = plt.figure(figsize=(20, 2))\n",
    "ax = fig.add_subplot(111)\n",
    "plt.bar(job_label, persona_data['Công việc hiện tại'].value_counts(), color = bar_color)\n",
    "addlabels(persona_data['Công việc hiện tại'].unique(), persona_data['Công việc hiện tại'].value_counts())\n",
    "plt.title('Khảo sát phân bố công việc của khách hàng')\n",
    "plt.xlabel('Công việc')\n",
    "plt.ylabel('Số khách hàng')\n",
    "\n",
    "plt.show()\n"
   ]
  },
  {
   "cell_type": "markdown",
   "id": "2b7b8495",
   "metadata": {},
   "source": [
    "<strong><u>Nhận xét</u>></strong>\n",
    "<p>Khách hàng trong khảo sát tập trung chủ yếu là Nhân viên hành chính (159), Tự doanh (120),và thiểu số Công nhân viên chức (53),điều hành quản lý (50)</p>"
   ]
  },
  {
   "cell_type": "code",
   "execution_count": 40,
   "id": "6fab03ab",
   "metadata": {},
   "outputs": [
    {
     "data": {
      "text/plain": [
       " 18-30     192\n",
       " 31- 40    123\n",
       " 41-50      51\n",
       " >50        16\n",
       "Name: Độ tuổi , dtype: int64"
      ]
     },
     "execution_count": 40,
     "metadata": {},
     "output_type": "execute_result"
    }
   ],
   "source": [
    "persona_data['Độ tuổi '].value_counts()"
   ]
  },
  {
   "cell_type": "code",
   "execution_count": 41,
   "id": "d7908eba",
   "metadata": {},
   "outputs": [],
   "source": [
    "old_label = ['Từ 18 đến 30 tuổi', 'Từ 31 đến 40 tuổi', 'Từ 41 đến 50 tuổi', 'Trên 50 tuổi']"
   ]
  },
  {
   "cell_type": "code",
   "execution_count": 42,
   "id": "b682e6c0",
   "metadata": {
    "scrolled": false
   },
   "outputs": [
    {
     "data": {
      "image/png": "[encoded data removed]",
      "text/plain": [
       "<Figure size 640x480 with 1 Axes>"
      ]
     },
     "metadata": {},
     "output_type": "display_data"
    }
   ],
   "source": [
    "\n",
    "plt.barh(old_label, persona_data['Độ tuổi '].value_counts(), color = bar_color)\n",
    "plt.title('Khảo sát phân bố độ tuổi của khách hàng')\n",
    "plt.xlabel('số lượng khách hàng')\n",
    "\n",
    "plt.show()"
   ]
  },
  {
   "cell_type": "markdown",
   "id": "d8f74751",
   "metadata": {},
   "source": [
    "<strong><u>Nhận xét</u></strong>\n",
    "<p>Khách hàng trong khảo sát tập trung chủ yếu ở độ tuổi 18-30 (192 KH), và 31-40 (123 KH), và rất ít khách hàng trên 50 (21 KH)</p>"
   ]
  },
  {
   "cell_type": "code",
   "execution_count": 43,
   "id": "ac85836a",
   "metadata": {
    "scrolled": true
   },
   "outputs": [
    {
     "data": {
      "text/plain": [
       " Đại học                173\n",
       " Trung cấp, cao đẳng    137\n",
       " Phổ thông trung học     52\n",
       " Sau đại học             20\n",
       "Name: Trình độ học vấn , dtype: int64"
      ]
     },
     "execution_count": 43,
     "metadata": {},
     "output_type": "execute_result"
    }
   ],
   "source": [
    "persona_data['Trình độ học vấn '].value_counts()"
   ]
  },
  {
   "cell_type": "code",
   "execution_count": 44,
   "id": "da5792e0",
   "metadata": {},
   "outputs": [],
   "source": [
    "def absolute_value_HV(val):\n",
    "    a  = np.round((val/100*persona_data['Trình độ học vấn '].value_counts().sum()), 0)\n",
    "    percentage = np.round(a/persona_data['Trình độ học vấn '].value_counts().sum() *100,1)\n",
    "    return percentage # thêm số vào pie chart"
   ]
  },
  {
   "cell_type": "code",
   "execution_count": 45,
   "id": "252bc442",
   "metadata": {},
   "outputs": [],
   "source": [
    "label_grade = [\"Đại học\", \" Trung cấp, cao đẳng\", \"Phổ thông trung học\", \"Sau đại học\"]"
   ]
  },
  {
   "cell_type": "code",
   "execution_count": 46,
   "id": "98dc61b1",
   "metadata": {
    "scrolled": false
   },
   "outputs": [
    {
     "data": {
      "image/png": "[encoded data removed]",
      "text/plain": [
       "<Figure size 640x480 with 1 Axes>"
      ]
     },
     "metadata": {},
     "output_type": "display_data"
    }
   ],
   "source": [
    "plt.pie(persona_data['Trình độ học vấn '].value_counts(),labels = label_grade, colors = bar_color,autopct='%1.1f%%'.format(absolute_value_HV), )\n",
    "plt.title(\"Khảo sát tỉ lệ trình độ học vấn khách hàng\") \n",
    "plt.axis('equal')\n",
    "plt.show()"
   ]
  },
  {
   "cell_type": "markdown",
   "id": "36aea320",
   "metadata": {},
   "source": [
    "<strong><u>Nhận xét</u></strong>\n",
    "<p>Khách hàng có trình độ học vấn ở Đại học ( 45.3%) VÀ Trung cấp cao đẳng(35.9%) chiếm phần lớn, và rất ít khách hàng trong khảo sát có trình độ sau đại học (5.2%) </p>"
   ]
  },
  {
   "cell_type": "code",
   "execution_count": 47,
   "id": "a509378a",
   "metadata": {
    "scrolled": true
   },
   "outputs": [
    {
     "data": {
      "text/plain": [
       "Dưới 10 triệu         116\n",
       "Trên 20 triệu         111\n",
       "Từ 10 đến 15 triệu     98\n",
       "Từ 15 đến 20 triệu     57\n",
       "Name: Thu nhập mỗi tháng, dtype: int64"
      ]
     },
     "execution_count": 47,
     "metadata": {},
     "output_type": "execute_result"
    }
   ],
   "source": [
    " persona_data['Thu nhập mỗi tháng'].value_counts()"
   ]
  },
  {
   "cell_type": "code",
   "execution_count": 48,
   "id": "ce99f02e",
   "metadata": {},
   "outputs": [],
   "source": [
    "label_salary = [\"Duới 10 triệu\", \"Trên 20 triệu\", \"Từ 10 đến 15 triệu\",\"Từ 15 đến 20 triệu\"]"
   ]
  },
  {
   "cell_type": "code",
   "execution_count": 49,
   "id": "c67df060",
   "metadata": {
    "scrolled": true
   },
   "outputs": [
    {
     "data": {
      "image/png": "[encoded data removed]",
      "text/plain": [
       "<Figure size 640x480 with 1 Axes>"
      ]
     },
     "metadata": {},
     "output_type": "display_data"
    }
   ],
   "source": [
    "plt.barh(label_salary, persona_data['Thu nhập mỗi tháng'].value_counts(), color = bar_color)\n",
    "plt.title('Khảo sát phân bố  mức lương')\n",
    "plt.xlabel('số lượng khách hàng')\n",
    "plt.ylabel('Mức lương')\n",
    "\n",
    "plt.show()"
   ]
  },
  {
   "cell_type": "markdown",
   "id": "47575bc4",
   "metadata": {},
   "source": [
    "<strong><u>Nhận xét</u></strong>\n",
    "<p>Khách hàng có phân phố tập trung ở mức lức từ Dưới 10 triệu (116 KH), trên 20 triệu (111), Từ 10 đến 15 triệu (98 KH).Khách hàng có mức thu nhập từ 15 -20 triệu (57 KH) có mức phân bố thấp nhất trong khảo sát này với</p>"
   ]
  },
  {
   "cell_type": "code",
   "execution_count": 50,
   "id": "4bff86f7",
   "metadata": {
    "scrolled": false
   },
   "outputs": [
    {
     "data": {
      "text/plain": [
       " Tiền gửi tiết kiệm MSB               251\n",
       " Tiền gửi có kì hạn online cá nhân     64\n",
       " Tiền gửi thanh toán                   34\n",
       " Tiền gửi tiết kiệm không kỳ hạn       19\n",
       " Tiền gửi tích lũy                     14\n",
       "Name: Hình thức gửi tiết kiệm, dtype: int64"
      ]
     },
     "execution_count": 50,
     "metadata": {},
     "output_type": "execute_result"
    }
   ],
   "source": [
    "persona_data['Hình thức gửi tiết kiệm'].value_counts()"
   ]
  },
  {
   "cell_type": "code",
   "execution_count": 51,
   "id": "20680f6c",
   "metadata": {},
   "outputs": [],
   "source": [
    "label_method = ['Tiền gửi tiết kiệm MSB','Tiền gửi có kì hạn online cá nhân', 'Tiền gửi thanh toán', 'Tiền gửi tiết kiệm không kỳ hạn', 'Tiền gửi tích lũy']"
   ]
  },
  {
   "cell_type": "code",
   "execution_count": 52,
   "id": "b44de6b1",
   "metadata": {},
   "outputs": [],
   "source": [
    "HT_color = ['deepskyblue','red','yellow','green','pink']"
   ]
  },
  {
   "cell_type": "code",
   "execution_count": 53,
   "id": "28b8fbc4",
   "metadata": {},
   "outputs": [],
   "source": [
    "def absolute_value_HT(val):\n",
    "    a  = np.round((val/100*persona_data['Hình thức gửi tiết kiệm '].value_counts().sum()), 0)\n",
    "    percentage = np.round(a/persona_data['Hình thức gửi tiết kiệm '].value_counts().sum() *100,1)\n",
    "    return percentage # thêm số vào pie chart"
   ]
  },
  {
   "cell_type": "code",
   "execution_count": 54,
   "id": "328bf861",
   "metadata": {
    "scrolled": false
   },
   "outputs": [
    {
     "data": {
      "image/png": "[encoded data removed]",
      "text/plain": [
       "<Figure size 640x480 with 1 Axes>"
      ]
     },
     "metadata": {},
     "output_type": "display_data"
    }
   ],
   "source": [
    "plt.pie(persona_data['Hình thức gửi tiết kiệm'].value_counts(),labels =label_method , colors = HT_color,autopct='%1.1f%%'.format(absolute_value_HT), )\n",
    "plt.title(\"Khảo sát tỉ lệ hình thức gửi tiết kiệm\") \n",
    "plt.axis('equal')\n",
    "plt.show()"
   ]
  },
  {
   "cell_type": "markdown",
   "id": "8031d2c6",
   "metadata": {},
   "source": [
    "<strong><u>Nhận xét</u></strong>\n",
    "<p>Khách hàng tập trung chủ yếu vào hình thức gửi tiết kiệm của MSB (65.7%). Rất ít khách hàng chọn lựa việc tiết kiệm không kỳ hạn ( 5.0%) và tiền gửi tích lũy (3.7%)</p>"
   ]
  },
  {
   "cell_type": "code",
   "execution_count": 55,
   "id": "546deb5b",
   "metadata": {
    "scrolled": true
   },
   "outputs": [
    {
     "data": {
      "text/plain": [
       "Dưới 1 năm        306\n",
       "Từ 1 đến 2 năm     55\n",
       "Trên 2 năm         21\n",
       "Name: Kỳ hạn gửi tiết kiệm, dtype: int64"
      ]
     },
     "execution_count": 55,
     "metadata": {},
     "output_type": "execute_result"
    }
   ],
   "source": [
    "persona_data['Kỳ hạn gửi tiết kiệm'].value_counts()"
   ]
  },
  {
   "cell_type": "code",
   "execution_count": 56,
   "id": "211bb0da",
   "metadata": {},
   "outputs": [],
   "source": [
    "label_time = ['Dưới 1 năm', 'Từ 1 đến 2 năm', 'Trên 2 năm']"
   ]
  },
  {
   "cell_type": "code",
   "execution_count": 57,
   "id": "f412942f",
   "metadata": {
    "scrolled": true
   },
   "outputs": [
    {
     "data": {
      "image/png": "[encoded data removed]",
      "text/plain": [
       "<Figure size 640x480 with 1 Axes>"
      ]
     },
     "metadata": {},
     "output_type": "display_data"
    }
   ],
   "source": [
    "bar_color = ['deepskyblue','red','yellow','green']\n",
    "\n",
    "plt.bar(label_time, persona_data['Kỳ hạn gửi tiết kiệm'].value_counts(), color = bar_color)\n",
    "addlabels(persona_data['Kỳ hạn gửi tiết kiệm'].unique(), persona_data['Kỳ hạn gửi tiết kiệm'].value_counts())\n",
    "plt.title('Khảo sát phân bố kỳ hạn gửi tiết kiệm của khách hàng')\n",
    "plt.xlabel('Kỳ hạn')\n",
    "plt.ylabel('Số khách hàng')\n",
    "\n",
    "plt.show()"
   ]
  },
  {
   "cell_type": "markdown",
   "id": "8c5b2543",
   "metadata": {},
   "source": [
    "<strong><u>Nhận xét</u></strong>\n",
    "<p>Trong khảo sát, khách hàng tập trung chủ yếu vào kỳ hạn Dưới 1 năm (306 KH), và rất ít khách hàng gửi kỳ hạn trên 2 năm (21 KH)</p>"
   ]
  },
  {
   "cell_type": "markdown",
   "id": "9d9aeeba",
   "metadata": {},
   "source": [
    "## Kiểm định cho phân tích nhân tố các câu hỏi khảo sát"
   ]
  },
  {
   "cell_type": "markdown",
   "id": "3009ad2c",
   "metadata": {},
   "source": [
    "#### Kiểm định độ tin cậy với Cronbach's Alpha\n",
    "\n",
    "<strong><i> Cronbach's Alpha là gì ?</i></strong>\n",
    "<p>Hệ số tin cậy Cronbach’s Alpha là hệ số cho phép đánh giá mức độ phù hợp khi đưa các biến quan sát nào đó thuộc về một biến nghiên cứu. Tuy nhiên hệ số tin cậy chỉ cho biết các đo lường có liên kết với nhau hay không; để biết được biến quan sát nào không đóng góp nhiều cho sự mô tả của khái niệm cần đo để loại bỏ đi và biến quan sát nào cần giữ lại chúng ta sẽ dựa vào hệ số tương quan biến tổng (Corrected Item - Total Correlation). Cụ thể các tiêu chí trong kiểm định hệ số tin cậy như sau:</p>\n",
    "<table>\n",
    "    <tr>\n",
    "        <th>Khoảng</th>\n",
    "        <th>Đánh giá</th>\n",
    "    </tr>\n",
    "    <tr>\n",
    "        <td>α >= 0.9</td>\n",
    "        <td>Thang đo nhân tố rất tốt</td>\n",
    "    </tr>\n",
    "    <tr>\n",
    "        <td>0.9 > α >= 0.8</td>\n",
    "        <td>Thang đo nhân tố tốt</td>\n",
    "    </tr>\n",
    "    <tr>\n",
    "        <td>0.8 > α >= 0.7</td>\n",
    "        <td>Thang đo nhân tố chấp nhận được</td>\n",
    "    </tr>\n",
    "    <tr>\n",
    "        <td>0.7 > α >= 0.6</td>\n",
    "        <td>Chấp nhận được với nghiên cứu mới</td>\n",
    "    </tr>\n",
    "    <tr>\n",
    "        <td>0.6 > α >= 0.5</td>\n",
    "        <td>Thang đo nhân tố không phù hợp</td>\n",
    "    </tr>\n",
    "    <tr>\n",
    "        <td> α <0.5 </td>\n",
    "        <td>Thang đo nhân tố không phù hợp</td>\n",
    "    </tr>\n",
    "    \n",
    "    \n",
    " \n",
    "</table>\n"
   ]
  },
  {
   "cell_type": "code",
   "execution_count": 58,
   "id": "d6a1c37d",
   "metadata": {},
   "outputs": [],
   "source": [
    "import pingouin as pg\n"
   ]
  },
  {
   "cell_type": "code",
   "execution_count": 59,
   "id": "c9b885fd",
   "metadata": {},
   "outputs": [
    {
     "data": {
      "text/plain": [
       "(0.9535046191850846, array([0.947, 0.96 ]))"
      ]
     },
     "execution_count": 59,
     "metadata": {},
     "output_type": "execute_result"
    }
   ],
   "source": [
    "pg.cronbach_alpha(data=factor_data_analyze)"
   ]
  },
  {
   "cell_type": "markdown",
   "id": "7d975f63",
   "metadata": {},
   "source": [
    "<strong><u>Nhận xét: </u></strong>\n",
    "<p> Với giá trị Cronbach_alpha là 0.9535 với độ tin cậy 95% thì chứng tỏ <strong><i>thang đo nhân tố rất tốt</i></strong> và bước tiếp theo sẽ là phân tích nhân tố khám phá EFA</p>"
   ]
  },
  {
   "cell_type": "markdown",
   "id": "cdf0a5f0",
   "metadata": {},
   "source": [
    "## Phân tích nhân tố"
   ]
  },
  {
   "cell_type": "code",
   "execution_count": 66,
   "id": "faa1fa15",
   "metadata": {
    "scrolled": true
   },
   "outputs": [
    {
     "name": "stdout",
     "output_type": "stream",
     "text": [
      "Collecting factor_analyzer\n",
      "  Downloading factor_analyzer-0.4.1.tar.gz (41 kB)\n",
      "     ---------------------------------------- 41.8/41.8 kB 1.0 MB/s eta 0:00:00\n",
      "  Installing build dependencies: started\n",
      "  Installing build dependencies: finished with status 'done'\n",
      "  Getting requirements to build wheel: started\n",
      "  Getting requirements to build wheel: finished with status 'done'\n",
      "  Preparing metadata (pyproject.toml): started\n",
      "  Preparing metadata (pyproject.toml): finished with status 'done'\n",
      "Requirement already satisfied: scipy in c:\\users\\hieu nguyen\\anaconda3\\lib\\site-packages (from factor_analyzer) (1.9.1)\n",
      "Requirement already satisfied: pandas in c:\\users\\hieu nguyen\\anaconda3\\lib\\site-packages (from factor_analyzer) (1.4.4)\n",
      "Requirement already satisfied: numpy in c:\\users\\hieu nguyen\\anaconda3\\lib\\site-packages (from factor_analyzer) (1.21.5)\n",
      "Collecting pre-commit\n",
      "  Downloading pre_commit-3.1.1-py2.py3-none-any.whl (202 kB)\n",
      "     -------------------------------------- 202.3/202.3 kB 3.1 MB/s eta 0:00:00\n",
      "Requirement already satisfied: scikit-learn in c:\\users\\hieu nguyen\\anaconda3\\lib\\site-packages (from factor_analyzer) (1.0.2)\n",
      "Requirement already satisfied: python-dateutil>=2.8.1 in c:\\users\\hieu nguyen\\anaconda3\\lib\\site-packages (from pandas->factor_analyzer) (2.8.2)\n",
      "Requirement already satisfied: pytz>=2020.1 in c:\\users\\hieu nguyen\\anaconda3\\lib\\site-packages (from pandas->factor_analyzer) (2022.1)\n",
      "Collecting cfgv>=2.0.0\n",
      "  Downloading cfgv-3.3.1-py2.py3-none-any.whl (7.3 kB)\n",
      "Collecting identify>=1.0.0\n",
      "  Downloading identify-2.5.20-py2.py3-none-any.whl (98 kB)\n",
      "     ---------------------------------------- 98.8/98.8 kB ? eta 0:00:00\n",
      "Requirement already satisfied: pyyaml>=5.1 in c:\\users\\hieu nguyen\\anaconda3\\lib\\site-packages (from pre-commit->factor_analyzer) (6.0)\n",
      "Collecting nodeenv>=0.11.1\n",
      "  Downloading nodeenv-1.7.0-py2.py3-none-any.whl (21 kB)\n",
      "Collecting virtualenv>=20.10.0\n",
      "  Downloading virtualenv-20.21.0-py3-none-any.whl (8.7 MB)\n",
      "     ---------------------------------------- 8.7/8.7 MB 9.1 MB/s eta 0:00:00\n",
      "Requirement already satisfied: threadpoolctl>=2.0.0 in c:\\users\\hieu nguyen\\anaconda3\\lib\\site-packages (from scikit-learn->factor_analyzer) (2.2.0)\n",
      "Requirement already satisfied: joblib>=0.11 in c:\\users\\hieu nguyen\\anaconda3\\lib\\site-packages (from scikit-learn->factor_analyzer) (1.1.0)\n",
      "Requirement already satisfied: setuptools in c:\\users\\hieu nguyen\\anaconda3\\lib\\site-packages (from nodeenv>=0.11.1->pre-commit->factor_analyzer) (63.4.1)\n",
      "Requirement already satisfied: six>=1.5 in c:\\users\\hieu nguyen\\anaconda3\\lib\\site-packages (from python-dateutil>=2.8.1->pandas->factor_analyzer) (1.16.0)\n",
      "Collecting distlib<1,>=0.3.6\n",
      "  Downloading distlib-0.3.6-py2.py3-none-any.whl (468 kB)\n",
      "     -------------------------------------- 468.5/468.5 kB 7.3 MB/s eta 0:00:00\n",
      "Requirement already satisfied: platformdirs<4,>=2.4 in c:\\users\\hieu nguyen\\anaconda3\\lib\\site-packages (from virtualenv>=20.10.0->pre-commit->factor_analyzer) (2.5.2)\n",
      "Requirement already satisfied: filelock<4,>=3.4.1 in c:\\users\\hieu nguyen\\anaconda3\\lib\\site-packages (from virtualenv>=20.10.0->pre-commit->factor_analyzer) (3.6.0)\n",
      "Building wheels for collected packages: factor_analyzer\n",
      "  Building wheel for factor_analyzer (pyproject.toml): started\n",
      "  Building wheel for factor_analyzer (pyproject.toml): finished with status 'done'\n",
      "  Created wheel for factor_analyzer: filename=factor_analyzer-0.4.1-py2.py3-none-any.whl size=42071 sha256=e0c4207f2a79b68761b0001aaa83071192c08cc50b5bacf1a615da5074c3c1b4\n",
      "  Stored in directory: c:\\users\\hieu nguyen\\appdata\\local\\pip\\cache\\wheels\\6d\\32\\bd\\460a71becd83f7d77152f437c2fd451f5c87bc19cfcdbfcd24\n",
      "Successfully built factor_analyzer\n",
      "Installing collected packages: distlib, virtualenv, nodeenv, identify, cfgv, pre-commit, factor_analyzer\n",
      "Successfully installed cfgv-3.3.1 distlib-0.3.6 factor_analyzer-0.4.1 identify-2.5.20 nodeenv-1.7.0 pre-commit-3.1.1 virtualenv-20.21.0\n"
     ]
    }
   ],
   "source": [
    "!pip install factor_analyzer"
   ]
  },
  {
   "cell_type": "code",
   "execution_count": 60,
   "id": "a73d92ee",
   "metadata": {},
   "outputs": [],
   "source": [
    "from factor_analyzer.factor_analyzer import calculate_bartlett_sphericity"
   ]
  },
  {
   "cell_type": "code",
   "execution_count": 61,
   "id": "cdaf07d4",
   "metadata": {
    "scrolled": true
   },
   "outputs": [
    {
     "data": {
      "text/html": [
       "<div>\n",
       "<style scoped>\n",
       "    .dataframe tbody tr th:only-of-type {\n",
       "        vertical-align: middle;\n",
       "    }\n",
       "\n",
       "    .dataframe tbody tr th {\n",
       "        vertical-align: top;\n",
       "    }\n",
       "\n",
       "    .dataframe thead th {\n",
       "        text-align: right;\n",
       "    }\n",
       "</style>\n",
       "<table border=\"1\" class=\"dataframe\">\n",
       "  <thead>\n",
       "    <tr style=\"text-align: right;\">\n",
       "      <th></th>\n",
       "      <th>UTTH1</th>\n",
       "      <th>UTTH2</th>\n",
       "      <th>UTTH3</th>\n",
       "      <th>UTTH4</th>\n",
       "      <th>UTTH5</th>\n",
       "      <th>UTTH6</th>\n",
       "      <th>UTTH7</th>\n",
       "      <th>PLS1</th>\n",
       "      <th>PLS2</th>\n",
       "      <th>PLS3</th>\n",
       "      <th>...</th>\n",
       "      <th>MAT5</th>\n",
       "      <th>CSKH1</th>\n",
       "      <th>CSKH2</th>\n",
       "      <th>CSKH3</th>\n",
       "      <th>CSKH4</th>\n",
       "      <th>CTKM1</th>\n",
       "      <th>CTKM2</th>\n",
       "      <th>CTKM3</th>\n",
       "      <th>CTKM4</th>\n",
       "      <th>CTKM5</th>\n",
       "    </tr>\n",
       "  </thead>\n",
       "  <tbody>\n",
       "    <tr>\n",
       "      <th>0</th>\n",
       "      <td>5</td>\n",
       "      <td>5</td>\n",
       "      <td>5</td>\n",
       "      <td>5</td>\n",
       "      <td>5</td>\n",
       "      <td>5</td>\n",
       "      <td>5</td>\n",
       "      <td>5</td>\n",
       "      <td>5</td>\n",
       "      <td>4</td>\n",
       "      <td>...</td>\n",
       "      <td>5</td>\n",
       "      <td>5</td>\n",
       "      <td>5</td>\n",
       "      <td>5</td>\n",
       "      <td>5</td>\n",
       "      <td>5</td>\n",
       "      <td>5</td>\n",
       "      <td>5</td>\n",
       "      <td>5</td>\n",
       "      <td>5</td>\n",
       "    </tr>\n",
       "    <tr>\n",
       "      <th>1</th>\n",
       "      <td>3</td>\n",
       "      <td>3</td>\n",
       "      <td>3</td>\n",
       "      <td>3</td>\n",
       "      <td>3</td>\n",
       "      <td>3</td>\n",
       "      <td>3</td>\n",
       "      <td>3</td>\n",
       "      <td>3</td>\n",
       "      <td>5</td>\n",
       "      <td>...</td>\n",
       "      <td>3</td>\n",
       "      <td>3</td>\n",
       "      <td>3</td>\n",
       "      <td>3</td>\n",
       "      <td>3</td>\n",
       "      <td>3</td>\n",
       "      <td>5</td>\n",
       "      <td>5</td>\n",
       "      <td>3</td>\n",
       "      <td>3</td>\n",
       "    </tr>\n",
       "    <tr>\n",
       "      <th>2</th>\n",
       "      <td>4</td>\n",
       "      <td>3</td>\n",
       "      <td>4</td>\n",
       "      <td>3</td>\n",
       "      <td>4</td>\n",
       "      <td>3</td>\n",
       "      <td>4</td>\n",
       "      <td>5</td>\n",
       "      <td>3</td>\n",
       "      <td>3</td>\n",
       "      <td>...</td>\n",
       "      <td>5</td>\n",
       "      <td>4</td>\n",
       "      <td>5</td>\n",
       "      <td>5</td>\n",
       "      <td>4</td>\n",
       "      <td>5</td>\n",
       "      <td>5</td>\n",
       "      <td>4</td>\n",
       "      <td>4</td>\n",
       "      <td>5</td>\n",
       "    </tr>\n",
       "    <tr>\n",
       "      <th>3</th>\n",
       "      <td>4</td>\n",
       "      <td>4</td>\n",
       "      <td>4</td>\n",
       "      <td>4</td>\n",
       "      <td>4</td>\n",
       "      <td>4</td>\n",
       "      <td>4</td>\n",
       "      <td>5</td>\n",
       "      <td>5</td>\n",
       "      <td>4</td>\n",
       "      <td>...</td>\n",
       "      <td>5</td>\n",
       "      <td>5</td>\n",
       "      <td>5</td>\n",
       "      <td>5</td>\n",
       "      <td>4</td>\n",
       "      <td>5</td>\n",
       "      <td>4</td>\n",
       "      <td>3</td>\n",
       "      <td>4</td>\n",
       "      <td>4</td>\n",
       "    </tr>\n",
       "    <tr>\n",
       "      <th>4</th>\n",
       "      <td>4</td>\n",
       "      <td>4</td>\n",
       "      <td>4</td>\n",
       "      <td>4</td>\n",
       "      <td>4</td>\n",
       "      <td>4</td>\n",
       "      <td>4</td>\n",
       "      <td>4</td>\n",
       "      <td>4</td>\n",
       "      <td>2</td>\n",
       "      <td>...</td>\n",
       "      <td>4</td>\n",
       "      <td>4</td>\n",
       "      <td>4</td>\n",
       "      <td>4</td>\n",
       "      <td>4</td>\n",
       "      <td>4</td>\n",
       "      <td>5</td>\n",
       "      <td>4</td>\n",
       "      <td>4</td>\n",
       "      <td>4</td>\n",
       "    </tr>\n",
       "  </tbody>\n",
       "</table>\n",
       "<p>5 rows × 35 columns</p>\n",
       "</div>"
      ],
      "text/plain": [
       "   UTTH1  UTTH2  UTTH3  UTTH4  UTTH5  UTTH6  UTTH7  PLS1  PLS2  PLS3  ...  \\\n",
       "0      5      5      5      5      5      5      5     5     5     4  ...   \n",
       "1      3      3      3      3      3      3      3     3     3     5  ...   \n",
       "2      4      3      4      3      4      3      4     5     3     3  ...   \n",
       "3      4      4      4      4      4      4      4     5     5     4  ...   \n",
       "4      4      4      4      4      4      4      4     4     4     2  ...   \n",
       "\n",
       "   MAT5  CSKH1  CSKH2  CSKH3  CSKH4  CTKM1  CTKM2  CTKM3  CTKM4  CTKM5  \n",
       "0     5      5      5      5      5      5      5      5      5      5  \n",
       "1     3      3      3      3      3      3      5      5      3      3  \n",
       "2     5      4      5      5      4      5      5      4      4      5  \n",
       "3     5      5      5      5      4      5      4      3      4      4  \n",
       "4     4      4      4      4      4      4      5      4      4      4  \n",
       "\n",
       "[5 rows x 35 columns]"
      ]
     },
     "execution_count": 61,
     "metadata": {},
     "output_type": "execute_result"
    }
   ],
   "source": [
    "factor_data_analyze.head()"
   ]
  },
  {
   "cell_type": "markdown",
   "id": "0e097ae0",
   "metadata": {},
   "source": [
    "<strong>Các nhân tố phân tích bao gồm: </strong>\n",
    "<table>\n",
    "    <tr>\n",
    "        <th>Viết tắt</th>\n",
    "        <th>Ý nghĩa</th>\n",
    "    </tr>\n",
    "    <tr>\n",
    "        <td>UTTH</td>\n",
    "        <td>Uy tín thương hiệu</td>\n",
    "    </tr>\n",
    "    <tr>\n",
    "        <td>PLS</td>\n",
    "        <td>Lãi suất và chi phí giao dịch</td>\n",
    "    </tr>\n",
    "    <tr>\n",
    "        <td>STT</td>\n",
    "        <td>Sự thuận tiện</td>\n",
    "    </tr>\n",
    "    <tr>\n",
    "        <td>AHNT</td>\n",
    "        <td>Ảnh hưởng người thân</td>\n",
    "    </tr>\n",
    "    <tr>\n",
    "        <td>MAT</td>\n",
    "        <td>Mức độ an toàn</td>\n",
    "    </tr>\n",
    "    <tr>\n",
    "        <td> CSKH </td>\n",
    "        <td>Chăm sóc khách hàng</td>\n",
    "    </tr>\n",
    "    <tr>\n",
    "        <td> CTKM </td>\n",
    "        <td>Chương trình khuyến mãi</td>\n",
    "    </tr>\n",
    "    \n",
    " \n",
    "</table>\n"
   ]
  },
  {
   "cell_type": "code",
   "execution_count": 62,
   "id": "03961065",
   "metadata": {},
   "outputs": [
    {
     "name": "stdout",
     "output_type": "stream",
     "text": [
      "<class 'pandas.core.frame.DataFrame'>\n",
      "RangeIndex: 382 entries, 0 to 381\n",
      "Data columns (total 35 columns):\n",
      " #   Column  Non-Null Count  Dtype  \n",
      "---  ------  --------------  -----  \n",
      " 0   UTTH1   382 non-null    int64  \n",
      " 1   UTTH2   382 non-null    int64  \n",
      " 2   UTTH3   382 non-null    int64  \n",
      " 3   UTTH4   382 non-null    int64  \n",
      " 4   UTTH5   382 non-null    int64  \n",
      " 5   UTTH6   382 non-null    int64  \n",
      " 6   UTTH7   382 non-null    int64  \n",
      " 7   PLS1    382 non-null    int64  \n",
      " 8   PLS2    382 non-null    int64  \n",
      " 9   PLS3    382 non-null    int64  \n",
      " 10  PLS4    382 non-null    int64  \n",
      " 11  PLS5    382 non-null    int64  \n",
      " 12  STT1    382 non-null    int64  \n",
      " 13  STT2    382 non-null    int64  \n",
      " 14  STT3    382 non-null    int64  \n",
      " 15  STT4    382 non-null    int64  \n",
      " 16  AHNT1   382 non-null    float64\n",
      " 17  AHNT2   382 non-null    float64\n",
      " 18  AHNT3   382 non-null    float64\n",
      " 19  AHNT4   382 non-null    float64\n",
      " 20  AHNT5   382 non-null    int64  \n",
      " 21  MAT1    382 non-null    int64  \n",
      " 22  MAT2    382 non-null    int64  \n",
      " 23  MAT3    382 non-null    float64\n",
      " 24  MAT4    382 non-null    int64  \n",
      " 25  MAT5    382 non-null    int64  \n",
      " 26  CSKH1   382 non-null    int64  \n",
      " 27  CSKH2   382 non-null    int64  \n",
      " 28  CSKH3   382 non-null    int64  \n",
      " 29  CSKH4   382 non-null    int64  \n",
      " 30  CTKM1   382 non-null    int64  \n",
      " 31  CTKM2   382 non-null    int64  \n",
      " 32  CTKM3   382 non-null    int64  \n",
      " 33  CTKM4   382 non-null    int64  \n",
      " 34  CTKM5   382 non-null    int64  \n",
      "dtypes: float64(5), int64(30)\n",
      "memory usage: 104.6 KB\n"
     ]
    }
   ],
   "source": [
    "factor_data_analyze.info()"
   ]
  },
  {
   "cell_type": "markdown",
   "id": "a56ca939",
   "metadata": {},
   "source": [
    "#### Kiểm định Bartlett ’s"
   ]
  },
  {
   "cell_type": "code",
   "execution_count": 63,
   "id": "8ac1656c",
   "metadata": {},
   "outputs": [
    {
     "data": {
      "text/plain": [
       "(8553.861290345067, 0.0)"
      ]
     },
     "execution_count": 63,
     "metadata": {},
     "output_type": "execute_result"
    }
   ],
   "source": [
    "chi_square_value,p_value=calculate_bartlett_sphericity(factor_data_analyze)\n",
    "chi_square_value, p_value"
   ]
  },
  {
   "cell_type": "markdown",
   "id": "24bec34c",
   "metadata": {},
   "source": [
    "<strong><u>Nhận xét</u></strong>\n",
    "<p>Trong thử nghiệm Bartlett này, giá trị p là 0. <strong><i>Thử nghiệm có ý nghĩa thống kê, chỉ ra rằng ma trận tương quan được quan sát không phải là ma trận đồng nhất</i><strong>."
   ]
  },
  {
   "cell_type": "markdown",
   "id": "785bae98",
   "metadata": {},
   "source": [
    "#### Kiểm định Kaiser-Meyer-Olkin (KMO) Test\n",
    "\n",
    "<p>Kiểm định Kaiser-Meyer-Olkin (KMO) đo lường mức độ phù hợp của dữ liệu để phân tích nhân tố. Nó xác định mức độ phù hợp cho từng biến quan sát và cho toàn bộ mô hình. KMO ước tính tỷ lệ phương sai giữa tất cả các biến quan sát. Id tỷ lệ thấp hơn phù hợp hơn cho phân tích nhân tố. Giá trị KMO nằm trong khoảng từ 0 đến 1. Giá trị KMO nhỏ hơn 0,6 được coi là không đủ.<p>"
   ]
  },
  {
   "cell_type": "code",
   "execution_count": 64,
   "id": "3a13ae90",
   "metadata": {},
   "outputs": [],
   "source": [
    "from factor_analyzer.factor_analyzer import calculate_kmo"
   ]
  },
  {
   "cell_type": "code",
   "execution_count": 65,
   "id": "298a5f07",
   "metadata": {},
   "outputs": [
    {
     "name": "stderr",
     "output_type": "stream",
     "text": [
      "C:\\Users\\Hieu Nguyen\\anaconda3\\lib\\site-packages\\factor_analyzer\\utils.py:244: UserWarning: The inverse of the variance-covariance matrix was calculated using the Moore-Penrose generalized matrix inversion, due to its determinant being at or very close to zero.\n",
      "  warnings.warn(\n"
     ]
    }
   ],
   "source": [
    "kmo_all,kmo_model=calculate_kmo(factor_data_analyze)"
   ]
  },
  {
   "cell_type": "code",
   "execution_count": 66,
   "id": "26140f0e",
   "metadata": {
    "scrolled": true
   },
   "outputs": [
    {
     "data": {
      "text/plain": [
       "0.9493002680131524"
      ]
     },
     "execution_count": 66,
     "metadata": {},
     "output_type": "execute_result"
    }
   ],
   "source": [
    "kmo_model"
   ]
  },
  {
   "cell_type": "markdown",
   "id": "5084f402",
   "metadata": {},
   "source": [
    "<strong><u>Nhận xét</u></strong>\n",
    "\n",
    "<p>Giá trị KMO là 0.949 nên có thể kết luận <strong><i>Có thể tiến hành phân tích nhân tố</i></strong></p>\n",
    "\n",
    "<p>Có 7 nhân tố thế này ta sẽ phân tích các nhân tố với ma trận xoay số lượng là 7 </p>"
   ]
  },
  {
   "cell_type": "code",
   "execution_count": 67,
   "id": "68c96282",
   "metadata": {},
   "outputs": [],
   "source": [
    "from factor_analyzer import FactorAnalyzer"
   ]
  },
  {
   "cell_type": "code",
   "execution_count": 68,
   "id": "82da74bc",
   "metadata": {
    "scrolled": true
   },
   "outputs": [],
   "source": [
    "# Create factor analysis object and perform factor analysis\n",
    "fa = FactorAnalyzer(7, rotation = 'varimax')\n",
    "\n",
    "fa.fit(factor_data_analyze)\n",
    "ev, v = fa.get_eigenvalues()\n",
    "\n",
    "\n"
   ]
  },
  {
   "cell_type": "code",
   "execution_count": 69,
   "id": "f360e65e",
   "metadata": {
    "scrolled": true
   },
   "outputs": [
    {
     "data": {
      "image/png": "[encoded data removed]",
      "text/plain": [
       "<Figure size 640x480 with 1 Axes>"
      ]
     },
     "metadata": {},
     "output_type": "display_data"
    }
   ],
   "source": [
    "plt.scatter(range(1,factor_data_analyze.shape[1]+1),ev)\n",
    "plt.plot(range(1,factor_data_analyze.shape[1]+1),ev)\n",
    "plt.title('Scree Plot')\n",
    "plt.xlabel('Factors')\n",
    "plt.ylabel('Eigenvalue')\n",
    "plt.grid()\n",
    "plt.show()"
   ]
  },
  {
   "cell_type": "code",
   "execution_count": 70,
   "id": "bf011196",
   "metadata": {},
   "outputs": [
    {
     "data": {
      "text/plain": [
       "(array([7.78880504, 5.76237415, 1.83383571, 1.70015876, 1.39204628,\n",
       "        1.27268256, 1.14380174]),\n",
       " array([0.22253729, 0.16463926, 0.05239531, 0.04857596, 0.03977275,\n",
       "        0.03636236, 0.03268005]),\n",
       " array([0.22253729, 0.38717655, 0.43957185, 0.48814782, 0.52792057,\n",
       "        0.56428293, 0.59696298]))"
      ]
     },
     "execution_count": 70,
     "metadata": {},
     "output_type": "execute_result"
    }
   ],
   "source": [
    "fa.get_factor_variance()"
   ]
  },
  {
   "cell_type": "code",
   "execution_count": 71,
   "id": "7f1d391b",
   "metadata": {},
   "outputs": [
    {
     "data": {
      "text/plain": [
       "array([[ 6.38380138e-01,  5.79451919e-01,  9.82454856e-02,\n",
       "         4.18469077e-02,  1.86381874e-02, -8.61628672e-02,\n",
       "         2.58799105e-01],\n",
       "       [ 7.73121787e-01,  2.63935752e-01, -2.80117737e-02,\n",
       "         6.07164345e-02,  9.99873073e-02,  9.50057987e-02,\n",
       "        -1.05592611e-01],\n",
       "       [ 1.38302227e-01,  7.20057589e-01,  2.20893366e-01,\n",
       "         1.53812769e-01,  1.60813056e-01, -1.31079419e-04,\n",
       "         1.16595233e-01],\n",
       "       [ 2.02773184e-01,  6.99191909e-01,  1.54669296e-01,\n",
       "         6.90482669e-02,  1.57340767e-01,  1.27554978e-01,\n",
       "        -3.68403197e-02],\n",
       "       [ 2.92879936e-01,  6.33058527e-01,  1.50844509e-01,\n",
       "         6.79687732e-02,  1.39056103e-01,  7.82931768e-02,\n",
       "        -8.43809594e-02],\n",
       "       [ 3.43508425e-01,  5.68383609e-01,  4.78870014e-02,\n",
       "         5.18899083e-02,  7.62809130e-02,  2.00453242e-01,\n",
       "         1.40906301e-01],\n",
       "       [ 6.34220056e-01,  4.65889150e-01,  4.56223705e-02,\n",
       "         4.19310724e-03,  6.84357232e-02,  3.67238605e-02,\n",
       "         4.79216407e-02],\n",
       "       [ 1.49576365e-01,  5.86649234e-01,  2.71610217e-01,\n",
       "         1.75896835e-01,  6.48195294e-02,  2.05301012e-01,\n",
       "         7.72574339e-02],\n",
       "       [ 2.14005726e-01,  6.06633927e-01,  1.61397601e-01,\n",
       "         1.47437824e-01,  1.44315814e-01,  1.23897344e-01,\n",
       "         3.61182359e-02],\n",
       "       [ 3.39541732e-01,  4.61409415e-01,  1.00867505e-01,\n",
       "         1.45051175e-01,  3.45725772e-02,  6.99799813e-02,\n",
       "         2.37267166e-01],\n",
       "       [ 2.04535983e-01,  5.39788936e-01,  2.11290924e-01,\n",
       "         3.28946259e-01,  3.61885206e-02,  1.70413483e-01,\n",
       "         6.81066977e-02],\n",
       "       [ 6.17344095e-01,  3.88662496e-01,  2.02855540e-02,\n",
       "         1.93802339e-01,  1.21703246e-01,  4.83317710e-02,\n",
       "        -4.40514446e-03],\n",
       "       [ 7.86259853e-01,  1.72986514e-01,  6.76510699e-02,\n",
       "         1.95830644e-01,  7.28314616e-02,  3.90841326e-02,\n",
       "         6.12470006e-02],\n",
       "       [ 5.05882278e-01, -2.63529881e-02,  1.39239274e-01,\n",
       "         1.04240600e-01,  2.15911267e-01,  3.88754227e-01,\n",
       "        -3.16402637e-01],\n",
       "       [ 7.78450613e-01,  1.58741385e-01,  7.69177105e-03,\n",
       "         1.55642643e-01,  9.97419453e-02,  1.11759725e-01,\n",
       "        -9.30414544e-03],\n",
       "       [ 4.16167892e-01,  3.34232906e-01,  2.46251520e-01,\n",
       "         3.66043999e-01,  9.68442787e-02, -3.83240543e-02,\n",
       "        -1.25894199e-01],\n",
       "       [ 1.63805775e-01,  3.47688186e-01,  1.38039967e-01,\n",
       "         3.18335128e-02,  6.11856589e-01,  1.82331793e-01,\n",
       "         1.26378616e-01],\n",
       "       [ 7.43026772e-02,  3.00552894e-01,  1.71249143e-01,\n",
       "         7.72227901e-02,  1.71279973e-01,  7.30149754e-01,\n",
       "         5.98152375e-02],\n",
       "       [ 4.48786378e-02,  3.72949508e-01,  6.61315895e-02,\n",
       "         2.82099652e-01,  1.93243866e-01,  4.47723231e-01,\n",
       "        -1.22143317e-02],\n",
       "       [ 2.73828449e-01,  1.68864536e-01,  6.58092212e-02,\n",
       "         1.49518051e-01,  7.78784110e-01,  1.50132875e-01,\n",
       "        -5.77921954e-02],\n",
       "       [ 7.42453400e-01, -3.55220977e-02,  1.01685843e-01,\n",
       "        -8.63140442e-02,  2.77444693e-02,  1.11497880e-01,\n",
       "        -2.31455662e-01],\n",
       "       [ 6.23573643e-01,  3.52696406e-01,  2.09544657e-01,\n",
       "        -1.45901720e-02,  3.51191447e-02,  1.82688322e-02,\n",
       "         3.55147408e-01],\n",
       "       [ 6.99325128e-01,  2.31721261e-01,  1.73604042e-02,\n",
       "         1.47564982e-01,  9.48714542e-02, -1.75964775e-02,\n",
       "         2.19203105e-01],\n",
       "       [ 1.12044462e-01,  5.37093220e-01,  1.08964273e-01,\n",
       "         3.00898233e-01,  5.81969202e-02,  7.53127811e-02,\n",
       "         4.18026789e-01],\n",
       "       [ 6.11846403e-01,  3.55387538e-01,  2.27614848e-01,\n",
       "         1.14102768e-01,  1.06620712e-01, -1.93919891e-03,\n",
       "         2.83890368e-01],\n",
       "       [ 6.70734234e-01,  2.88898068e-01,  1.74834006e-01,\n",
       "         2.11151925e-02,  1.11253374e-01, -6.76541192e-02,\n",
       "         2.33283926e-01],\n",
       "       [ 5.24347972e-01,  3.15958936e-01,  2.19055258e-01,\n",
       "         1.88599497e-01,  8.05684575e-02,  1.33983992e-01,\n",
       "         3.51296299e-01],\n",
       "       [ 5.61502313e-01,  3.04502546e-01,  1.09560452e-01,\n",
       "         2.74937427e-01,  5.39768244e-02, -2.01883076e-02,\n",
       "         2.00503464e-01],\n",
       "       [ 9.12797261e-02,  4.73627675e-01,  4.40987770e-01,\n",
       "         3.47213369e-01,  9.88581061e-02,  5.54791337e-02,\n",
       "         2.45135035e-01],\n",
       "       [ 2.41616117e-01,  4.20811082e-01,  5.32240522e-01,\n",
       "         1.01595367e-01,  1.06620472e-01,  1.52721452e-01,\n",
       "         1.61753613e-01],\n",
       "       [ 7.88055056e-01, -2.17737501e-02,  8.53143217e-02,\n",
       "         6.70421894e-02,  1.28559611e-01,  1.15128558e-01,\n",
       "        -3.31204948e-02],\n",
       "       [ 1.99699080e-01,  1.88154413e-01,  1.02092042e-01,\n",
       "         6.64926785e-01,  3.48000478e-02,  1.84899607e-01,\n",
       "         2.73135709e-02],\n",
       "       [ 5.41609845e-02,  1.96450123e-01,  3.33501381e-01,\n",
       "         4.25946756e-01,  1.62191611e-01, -1.35356288e-03,\n",
       "         1.27090090e-01],\n",
       "       [ 3.55905398e-02,  3.10670455e-01,  6.73932832e-01,\n",
       "         1.37362756e-01,  3.87142892e-02,  1.41404142e-01,\n",
       "        -3.32634484e-02],\n",
       "       [ 4.00329728e-01,  2.28797914e-01,  3.96366307e-01,\n",
       "         3.17391812e-01,  1.60850496e-01,  8.38141137e-02,\n",
       "        -6.25180669e-02]])"
      ]
     },
     "execution_count": 71,
     "metadata": {},
     "output_type": "execute_result"
    }
   ],
   "source": [
    "fa.loadings_"
   ]
  },
  {
   "cell_type": "code",
   "execution_count": 72,
   "id": "627356b6",
   "metadata": {},
   "outputs": [],
   "source": [
    "\n",
    "fa_loading_df = pd.DataFrame(fa.loadings_, columns=['UTTH', 'PLS', 'STT', 'AHNT', 'MAT','CSKH','CTKM'])"
   ]
  },
  {
   "cell_type": "code",
   "execution_count": 73,
   "id": "de45c89d",
   "metadata": {
    "scrolled": true
   },
   "outputs": [
    {
     "data": {
      "text/html": [
       "<div>\n",
       "<style scoped>\n",
       "    .dataframe tbody tr th:only-of-type {\n",
       "        vertical-align: middle;\n",
       "    }\n",
       "\n",
       "    .dataframe tbody tr th {\n",
       "        vertical-align: top;\n",
       "    }\n",
       "\n",
       "    .dataframe thead th {\n",
       "        text-align: right;\n",
       "    }\n",
       "</style>\n",
       "<table border=\"1\" class=\"dataframe\">\n",
       "  <thead>\n",
       "    <tr style=\"text-align: right;\">\n",
       "      <th></th>\n",
       "      <th>UTTH</th>\n",
       "      <th>PLS</th>\n",
       "      <th>STT</th>\n",
       "      <th>AHNT</th>\n",
       "      <th>MAT</th>\n",
       "      <th>CSKH</th>\n",
       "      <th>CTKM</th>\n",
       "    </tr>\n",
       "  </thead>\n",
       "  <tbody>\n",
       "    <tr>\n",
       "      <th>0</th>\n",
       "      <td>0.638380</td>\n",
       "      <td>0.579452</td>\n",
       "      <td>0.098245</td>\n",
       "      <td>0.041847</td>\n",
       "      <td>0.018638</td>\n",
       "      <td>-0.086163</td>\n",
       "      <td>0.258799</td>\n",
       "    </tr>\n",
       "    <tr>\n",
       "      <th>1</th>\n",
       "      <td>0.773122</td>\n",
       "      <td>0.263936</td>\n",
       "      <td>-0.028012</td>\n",
       "      <td>0.060716</td>\n",
       "      <td>0.099987</td>\n",
       "      <td>0.095006</td>\n",
       "      <td>-0.105593</td>\n",
       "    </tr>\n",
       "    <tr>\n",
       "      <th>2</th>\n",
       "      <td>0.138302</td>\n",
       "      <td>0.720058</td>\n",
       "      <td>0.220893</td>\n",
       "      <td>0.153813</td>\n",
       "      <td>0.160813</td>\n",
       "      <td>-0.000131</td>\n",
       "      <td>0.116595</td>\n",
       "    </tr>\n",
       "    <tr>\n",
       "      <th>3</th>\n",
       "      <td>0.202773</td>\n",
       "      <td>0.699192</td>\n",
       "      <td>0.154669</td>\n",
       "      <td>0.069048</td>\n",
       "      <td>0.157341</td>\n",
       "      <td>0.127555</td>\n",
       "      <td>-0.036840</td>\n",
       "    </tr>\n",
       "    <tr>\n",
       "      <th>4</th>\n",
       "      <td>0.292880</td>\n",
       "      <td>0.633059</td>\n",
       "      <td>0.150845</td>\n",
       "      <td>0.067969</td>\n",
       "      <td>0.139056</td>\n",
       "      <td>0.078293</td>\n",
       "      <td>-0.084381</td>\n",
       "    </tr>\n",
       "    <tr>\n",
       "      <th>5</th>\n",
       "      <td>0.343508</td>\n",
       "      <td>0.568384</td>\n",
       "      <td>0.047887</td>\n",
       "      <td>0.051890</td>\n",
       "      <td>0.076281</td>\n",
       "      <td>0.200453</td>\n",
       "      <td>0.140906</td>\n",
       "    </tr>\n",
       "    <tr>\n",
       "      <th>6</th>\n",
       "      <td>0.634220</td>\n",
       "      <td>0.465889</td>\n",
       "      <td>0.045622</td>\n",
       "      <td>0.004193</td>\n",
       "      <td>0.068436</td>\n",
       "      <td>0.036724</td>\n",
       "      <td>0.047922</td>\n",
       "    </tr>\n",
       "    <tr>\n",
       "      <th>7</th>\n",
       "      <td>0.149576</td>\n",
       "      <td>0.586649</td>\n",
       "      <td>0.271610</td>\n",
       "      <td>0.175897</td>\n",
       "      <td>0.064820</td>\n",
       "      <td>0.205301</td>\n",
       "      <td>0.077257</td>\n",
       "    </tr>\n",
       "    <tr>\n",
       "      <th>8</th>\n",
       "      <td>0.214006</td>\n",
       "      <td>0.606634</td>\n",
       "      <td>0.161398</td>\n",
       "      <td>0.147438</td>\n",
       "      <td>0.144316</td>\n",
       "      <td>0.123897</td>\n",
       "      <td>0.036118</td>\n",
       "    </tr>\n",
       "    <tr>\n",
       "      <th>9</th>\n",
       "      <td>0.339542</td>\n",
       "      <td>0.461409</td>\n",
       "      <td>0.100868</td>\n",
       "      <td>0.145051</td>\n",
       "      <td>0.034573</td>\n",
       "      <td>0.069980</td>\n",
       "      <td>0.237267</td>\n",
       "    </tr>\n",
       "    <tr>\n",
       "      <th>10</th>\n",
       "      <td>0.204536</td>\n",
       "      <td>0.539789</td>\n",
       "      <td>0.211291</td>\n",
       "      <td>0.328946</td>\n",
       "      <td>0.036189</td>\n",
       "      <td>0.170413</td>\n",
       "      <td>0.068107</td>\n",
       "    </tr>\n",
       "    <tr>\n",
       "      <th>11</th>\n",
       "      <td>0.617344</td>\n",
       "      <td>0.388662</td>\n",
       "      <td>0.020286</td>\n",
       "      <td>0.193802</td>\n",
       "      <td>0.121703</td>\n",
       "      <td>0.048332</td>\n",
       "      <td>-0.004405</td>\n",
       "    </tr>\n",
       "    <tr>\n",
       "      <th>12</th>\n",
       "      <td>0.786260</td>\n",
       "      <td>0.172987</td>\n",
       "      <td>0.067651</td>\n",
       "      <td>0.195831</td>\n",
       "      <td>0.072831</td>\n",
       "      <td>0.039084</td>\n",
       "      <td>0.061247</td>\n",
       "    </tr>\n",
       "    <tr>\n",
       "      <th>13</th>\n",
       "      <td>0.505882</td>\n",
       "      <td>-0.026353</td>\n",
       "      <td>0.139239</td>\n",
       "      <td>0.104241</td>\n",
       "      <td>0.215911</td>\n",
       "      <td>0.388754</td>\n",
       "      <td>-0.316403</td>\n",
       "    </tr>\n",
       "    <tr>\n",
       "      <th>14</th>\n",
       "      <td>0.778451</td>\n",
       "      <td>0.158741</td>\n",
       "      <td>0.007692</td>\n",
       "      <td>0.155643</td>\n",
       "      <td>0.099742</td>\n",
       "      <td>0.111760</td>\n",
       "      <td>-0.009304</td>\n",
       "    </tr>\n",
       "    <tr>\n",
       "      <th>15</th>\n",
       "      <td>0.416168</td>\n",
       "      <td>0.334233</td>\n",
       "      <td>0.246252</td>\n",
       "      <td>0.366044</td>\n",
       "      <td>0.096844</td>\n",
       "      <td>-0.038324</td>\n",
       "      <td>-0.125894</td>\n",
       "    </tr>\n",
       "    <tr>\n",
       "      <th>16</th>\n",
       "      <td>0.163806</td>\n",
       "      <td>0.347688</td>\n",
       "      <td>0.138040</td>\n",
       "      <td>0.031834</td>\n",
       "      <td>0.611857</td>\n",
       "      <td>0.182332</td>\n",
       "      <td>0.126379</td>\n",
       "    </tr>\n",
       "    <tr>\n",
       "      <th>17</th>\n",
       "      <td>0.074303</td>\n",
       "      <td>0.300553</td>\n",
       "      <td>0.171249</td>\n",
       "      <td>0.077223</td>\n",
       "      <td>0.171280</td>\n",
       "      <td>0.730150</td>\n",
       "      <td>0.059815</td>\n",
       "    </tr>\n",
       "    <tr>\n",
       "      <th>18</th>\n",
       "      <td>0.044879</td>\n",
       "      <td>0.372950</td>\n",
       "      <td>0.066132</td>\n",
       "      <td>0.282100</td>\n",
       "      <td>0.193244</td>\n",
       "      <td>0.447723</td>\n",
       "      <td>-0.012214</td>\n",
       "    </tr>\n",
       "    <tr>\n",
       "      <th>19</th>\n",
       "      <td>0.273828</td>\n",
       "      <td>0.168865</td>\n",
       "      <td>0.065809</td>\n",
       "      <td>0.149518</td>\n",
       "      <td>0.778784</td>\n",
       "      <td>0.150133</td>\n",
       "      <td>-0.057792</td>\n",
       "    </tr>\n",
       "    <tr>\n",
       "      <th>20</th>\n",
       "      <td>0.742453</td>\n",
       "      <td>-0.035522</td>\n",
       "      <td>0.101686</td>\n",
       "      <td>-0.086314</td>\n",
       "      <td>0.027744</td>\n",
       "      <td>0.111498</td>\n",
       "      <td>-0.231456</td>\n",
       "    </tr>\n",
       "    <tr>\n",
       "      <th>21</th>\n",
       "      <td>0.623574</td>\n",
       "      <td>0.352696</td>\n",
       "      <td>0.209545</td>\n",
       "      <td>-0.014590</td>\n",
       "      <td>0.035119</td>\n",
       "      <td>0.018269</td>\n",
       "      <td>0.355147</td>\n",
       "    </tr>\n",
       "    <tr>\n",
       "      <th>22</th>\n",
       "      <td>0.699325</td>\n",
       "      <td>0.231721</td>\n",
       "      <td>0.017360</td>\n",
       "      <td>0.147565</td>\n",
       "      <td>0.094871</td>\n",
       "      <td>-0.017596</td>\n",
       "      <td>0.219203</td>\n",
       "    </tr>\n",
       "    <tr>\n",
       "      <th>23</th>\n",
       "      <td>0.112044</td>\n",
       "      <td>0.537093</td>\n",
       "      <td>0.108964</td>\n",
       "      <td>0.300898</td>\n",
       "      <td>0.058197</td>\n",
       "      <td>0.075313</td>\n",
       "      <td>0.418027</td>\n",
       "    </tr>\n",
       "    <tr>\n",
       "      <th>24</th>\n",
       "      <td>0.611846</td>\n",
       "      <td>0.355388</td>\n",
       "      <td>0.227615</td>\n",
       "      <td>0.114103</td>\n",
       "      <td>0.106621</td>\n",
       "      <td>-0.001939</td>\n",
       "      <td>0.283890</td>\n",
       "    </tr>\n",
       "    <tr>\n",
       "      <th>25</th>\n",
       "      <td>0.670734</td>\n",
       "      <td>0.288898</td>\n",
       "      <td>0.174834</td>\n",
       "      <td>0.021115</td>\n",
       "      <td>0.111253</td>\n",
       "      <td>-0.067654</td>\n",
       "      <td>0.233284</td>\n",
       "    </tr>\n",
       "    <tr>\n",
       "      <th>26</th>\n",
       "      <td>0.524348</td>\n",
       "      <td>0.315959</td>\n",
       "      <td>0.219055</td>\n",
       "      <td>0.188599</td>\n",
       "      <td>0.080568</td>\n",
       "      <td>0.133984</td>\n",
       "      <td>0.351296</td>\n",
       "    </tr>\n",
       "    <tr>\n",
       "      <th>27</th>\n",
       "      <td>0.561502</td>\n",
       "      <td>0.304503</td>\n",
       "      <td>0.109560</td>\n",
       "      <td>0.274937</td>\n",
       "      <td>0.053977</td>\n",
       "      <td>-0.020188</td>\n",
       "      <td>0.200503</td>\n",
       "    </tr>\n",
       "    <tr>\n",
       "      <th>28</th>\n",
       "      <td>0.091280</td>\n",
       "      <td>0.473628</td>\n",
       "      <td>0.440988</td>\n",
       "      <td>0.347213</td>\n",
       "      <td>0.098858</td>\n",
       "      <td>0.055479</td>\n",
       "      <td>0.245135</td>\n",
       "    </tr>\n",
       "    <tr>\n",
       "      <th>29</th>\n",
       "      <td>0.241616</td>\n",
       "      <td>0.420811</td>\n",
       "      <td>0.532241</td>\n",
       "      <td>0.101595</td>\n",
       "      <td>0.106620</td>\n",
       "      <td>0.152721</td>\n",
       "      <td>0.161754</td>\n",
       "    </tr>\n",
       "    <tr>\n",
       "      <th>30</th>\n",
       "      <td>0.788055</td>\n",
       "      <td>-0.021774</td>\n",
       "      <td>0.085314</td>\n",
       "      <td>0.067042</td>\n",
       "      <td>0.128560</td>\n",
       "      <td>0.115129</td>\n",
       "      <td>-0.033120</td>\n",
       "    </tr>\n",
       "    <tr>\n",
       "      <th>31</th>\n",
       "      <td>0.199699</td>\n",
       "      <td>0.188154</td>\n",
       "      <td>0.102092</td>\n",
       "      <td>0.664927</td>\n",
       "      <td>0.034800</td>\n",
       "      <td>0.184900</td>\n",
       "      <td>0.027314</td>\n",
       "    </tr>\n",
       "    <tr>\n",
       "      <th>32</th>\n",
       "      <td>0.054161</td>\n",
       "      <td>0.196450</td>\n",
       "      <td>0.333501</td>\n",
       "      <td>0.425947</td>\n",
       "      <td>0.162192</td>\n",
       "      <td>-0.001354</td>\n",
       "      <td>0.127090</td>\n",
       "    </tr>\n",
       "    <tr>\n",
       "      <th>33</th>\n",
       "      <td>0.035591</td>\n",
       "      <td>0.310670</td>\n",
       "      <td>0.673933</td>\n",
       "      <td>0.137363</td>\n",
       "      <td>0.038714</td>\n",
       "      <td>0.141404</td>\n",
       "      <td>-0.033263</td>\n",
       "    </tr>\n",
       "    <tr>\n",
       "      <th>34</th>\n",
       "      <td>0.400330</td>\n",
       "      <td>0.228798</td>\n",
       "      <td>0.396366</td>\n",
       "      <td>0.317392</td>\n",
       "      <td>0.160850</td>\n",
       "      <td>0.083814</td>\n",
       "      <td>-0.062518</td>\n",
       "    </tr>\n",
       "  </tbody>\n",
       "</table>\n",
       "</div>"
      ],
      "text/plain": [
       "        UTTH       PLS       STT      AHNT       MAT      CSKH      CTKM\n",
       "0   0.638380  0.579452  0.098245  0.041847  0.018638 -0.086163  0.258799\n",
       "1   0.773122  0.263936 -0.028012  0.060716  0.099987  0.095006 -0.105593\n",
       "2   0.138302  0.720058  0.220893  0.153813  0.160813 -0.000131  0.116595\n",
       "3   0.202773  0.699192  0.154669  0.069048  0.157341  0.127555 -0.036840\n",
       "4   0.292880  0.633059  0.150845  0.067969  0.139056  0.078293 -0.084381\n",
       "5   0.343508  0.568384  0.047887  0.051890  0.076281  0.200453  0.140906\n",
       "6   0.634220  0.465889  0.045622  0.004193  0.068436  0.036724  0.047922\n",
       "7   0.149576  0.586649  0.271610  0.175897  0.064820  0.205301  0.077257\n",
       "8   0.214006  0.606634  0.161398  0.147438  0.144316  0.123897  0.036118\n",
       "9   0.339542  0.461409  0.100868  0.145051  0.034573  0.069980  0.237267\n",
       "10  0.204536  0.539789  0.211291  0.328946  0.036189  0.170413  0.068107\n",
       "11  0.617344  0.388662  0.020286  0.193802  0.121703  0.048332 -0.004405\n",
       "12  0.786260  0.172987  0.067651  0.195831  0.072831  0.039084  0.061247\n",
       "13  0.505882 -0.026353  0.139239  0.104241  0.215911  0.388754 -0.316403\n",
       "14  0.778451  0.158741  0.007692  0.155643  0.099742  0.111760 -0.009304\n",
       "15  0.416168  0.334233  0.246252  0.366044  0.096844 -0.038324 -0.125894\n",
       "16  0.163806  0.347688  0.138040  0.031834  0.611857  0.182332  0.126379\n",
       "17  0.074303  0.300553  0.171249  0.077223  0.171280  0.730150  0.059815\n",
       "18  0.044879  0.372950  0.066132  0.282100  0.193244  0.447723 -0.012214\n",
       "19  0.273828  0.168865  0.065809  0.149518  0.778784  0.150133 -0.057792\n",
       "20  0.742453 -0.035522  0.101686 -0.086314  0.027744  0.111498 -0.231456\n",
       "21  0.623574  0.352696  0.209545 -0.014590  0.035119  0.018269  0.355147\n",
       "22  0.699325  0.231721  0.017360  0.147565  0.094871 -0.017596  0.219203\n",
       "23  0.112044  0.537093  0.108964  0.300898  0.058197  0.075313  0.418027\n",
       "24  0.611846  0.355388  0.227615  0.114103  0.106621 -0.001939  0.283890\n",
       "25  0.670734  0.288898  0.174834  0.021115  0.111253 -0.067654  0.233284\n",
       "26  0.524348  0.315959  0.219055  0.188599  0.080568  0.133984  0.351296\n",
       "27  0.561502  0.304503  0.109560  0.274937  0.053977 -0.020188  0.200503\n",
       "28  0.091280  0.473628  0.440988  0.347213  0.098858  0.055479  0.245135\n",
       "29  0.241616  0.420811  0.532241  0.101595  0.106620  0.152721  0.161754\n",
       "30  0.788055 -0.021774  0.085314  0.067042  0.128560  0.115129 -0.033120\n",
       "31  0.199699  0.188154  0.102092  0.664927  0.034800  0.184900  0.027314\n",
       "32  0.054161  0.196450  0.333501  0.425947  0.162192 -0.001354  0.127090\n",
       "33  0.035591  0.310670  0.673933  0.137363  0.038714  0.141404 -0.033263\n",
       "34  0.400330  0.228798  0.396366  0.317392  0.160850  0.083814 -0.062518"
      ]
     },
     "execution_count": 73,
     "metadata": {},
     "output_type": "execute_result"
    }
   ],
   "source": [
    "fa_loading_df"
   ]
  },
  {
   "cell_type": "markdown",
   "id": "9fe0637b",
   "metadata": {},
   "source": [
    "<strong><u> Nhận xét</u></strong>\n",
    "\n",
    "<p>Dựa vào ma trận phân tích nhân tố, ta chọn lựa được các yếu tố đáng tin cậy để phân tích như sau (loadings_factor >= 0.3):</p>\n",
    "<table>\n",
    "    <tr>\n",
    "        <th>Yếu tố</th>\n",
    "        <th> Đặc trưng </th>\n",
    "    </tr>\n",
    "    <tr>\n",
    "        <td>UTTH</td>\n",
    "        <td>Nhân viên MSB CN Đô Thành luôn chân thật - UTTH2 </td>\n",
    "    </tr>\n",
    "    <tr>\n",
    "        <td>UTTH</td>\n",
    "        <td>MSB CN Đô Thành có danh tiếng - UTTH1 </td>\n",
    "    </tr>\n",
    "    <tr>\n",
    "        <td>UTTH</td>\n",
    "        <td>MSB là thương hiệu toàn quốc -UTTH7 </td>\n",
    "    </tr>\n",
    "    <tr>\n",
    "        <td>UTTH</td>\n",
    "        <td>MSB luôn dẫn đầu trong các công tác xã hội - UTTH6 </td>\n",
    "    </tr>\n",
    "    <tr>\n",
    "        <td>PLS</td>\n",
    "        <td>Lãi suất tiền gửi tiết kiệm của MSB xu hướng cao hơn những ngân hàng khác - PLS2 </td>\n",
    "    </tr>\n",
    "    <tr>\n",
    "        <td>PLS</td>\n",
    "        <td>Các loại phí dịch vụ mở sổ tiết kiệm (phí kiểm đếm, phí nộp tiền …) của MSB áp dụng thích hợp -PLS1 </td>\n",
    "    </tr>\n",
    "    <tr>\n",
    "        <td>PLS</td>\n",
    "        <td>MSB có lãi suất phù hợp -PLS4 </td>\n",
    "    </tr>\n",
    "    <tr>\n",
    "        <td>PLS</td>\n",
    "        <td>MSB - CN Đô Thành thường xuyên có đệ trình lãi suất ưu đãi cho khách hàng cũ- PLS3  </td>\n",
    "    </tr>\n",
    "    <tr>\n",
    "        <td>PLS</td>\n",
    "        <td>MSB có lãi suất gửi tiền tiết kiệm ít biến động -PLS5 </td>\n",
    "    </tr>\n",
    "    \n",
    " \n",
    "</table>\n"
   ]
  },
  {
   "cell_type": "code",
   "execution_count": 74,
   "id": "0f46432e",
   "metadata": {},
   "outputs": [],
   "source": [
    "new_factor_data = factor_data_analyze[['UTTH2','UTTH1','UTTH7','UTTH6','PLS2','PLS1','PLS4','PLS3','PLS5']]"
   ]
  },
  {
   "cell_type": "markdown",
   "id": "4d5d5a4c",
   "metadata": {},
   "source": [
    "### Kiểm định và phân tích quyết định "
   ]
  },
  {
   "cell_type": "code",
   "execution_count": 75,
   "id": "ef7df816",
   "metadata": {},
   "outputs": [
    {
     "data": {
      "text/plain": [
       "(0.8785622881745605, array([0.857, 0.897]))"
      ]
     },
     "execution_count": 75,
     "metadata": {},
     "output_type": "execute_result"
    }
   ],
   "source": [
    "pg.cronbach_alpha(data=factor_net_promoter_score)"
   ]
  },
  {
   "cell_type": "code",
   "execution_count": 76,
   "id": "19314f05",
   "metadata": {},
   "outputs": [
    {
     "data": {
      "text/plain": [
       "(784.9724747149804, 2.7178456938504585e-166)"
      ]
     },
     "execution_count": 76,
     "metadata": {},
     "output_type": "execute_result"
    }
   ],
   "source": [
    "chi_square_value,p_value=calculate_bartlett_sphericity(factor_net_promoter_score)\n",
    "chi_square_value, p_value"
   ]
  },
  {
   "cell_type": "code",
   "execution_count": 77,
   "id": "54f2264c",
   "metadata": {},
   "outputs": [],
   "source": [
    "kmo_all,kmo_model=calculate_kmo(factor_net_promoter_score)"
   ]
  },
  {
   "cell_type": "code",
   "execution_count": 78,
   "id": "28e0d498",
   "metadata": {
    "scrolled": true
   },
   "outputs": [
    {
     "data": {
      "text/plain": [
       "0.8331935236437767"
      ]
     },
     "execution_count": 78,
     "metadata": {},
     "output_type": "execute_result"
    }
   ],
   "source": [
    "kmo_model"
   ]
  },
  {
   "cell_type": "code",
   "execution_count": 79,
   "id": "e40da835",
   "metadata": {},
   "outputs": [
    {
     "name": "stderr",
     "output_type": "stream",
     "text": [
      "C:\\Users\\Hieu Nguyen\\anaconda3\\lib\\site-packages\\factor_analyzer\\factor_analyzer.py:662: UserWarning: No rotation will be performed when the number of factors equals 1.\n",
      "  warnings.warn(\n"
     ]
    }
   ],
   "source": [
    "fa = FactorAnalyzer(1, rotation = 'varimax')\n",
    "\n",
    "fa.fit(factor_net_promoter_score)\n",
    "ev, v = fa.get_eigenvalues()"
   ]
  },
  {
   "cell_type": "code",
   "execution_count": 80,
   "id": "944e938c",
   "metadata": {},
   "outputs": [
    {
     "data": {
      "image/png": "[encoded data removed]",
      "text/plain": [
       "<Figure size 640x480 with 1 Axes>"
      ]
     },
     "metadata": {},
     "output_type": "display_data"
    }
   ],
   "source": [
    "plt.scatter(range(1,factor_net_promoter_score.shape[1]+1),ev)\n",
    "plt.plot(range(1,factor_net_promoter_score.shape[1]+1),ev)\n",
    "plt.title('Scree Plot')\n",
    "plt.xlabel('Factors')\n",
    "plt.ylabel('Eigenvalue')\n",
    "plt.grid()\n",
    "plt.show()"
   ]
  },
  {
   "cell_type": "code",
   "execution_count": 81,
   "id": "a05562f7",
   "metadata": {},
   "outputs": [],
   "source": [
    "fa_loading_df_NPS = pd.DataFrame(fa.loadings_, columns=['Quyết định'])"
   ]
  },
  {
   "cell_type": "code",
   "execution_count": 82,
   "id": "a523ac90",
   "metadata": {},
   "outputs": [
    {
     "data": {
      "text/html": [
       "<div>\n",
       "<style scoped>\n",
       "    .dataframe tbody tr th:only-of-type {\n",
       "        vertical-align: middle;\n",
       "    }\n",
       "\n",
       "    .dataframe tbody tr th {\n",
       "        vertical-align: top;\n",
       "    }\n",
       "\n",
       "    .dataframe thead th {\n",
       "        text-align: right;\n",
       "    }\n",
       "</style>\n",
       "<table border=\"1\" class=\"dataframe\">\n",
       "  <thead>\n",
       "    <tr style=\"text-align: right;\">\n",
       "      <th></th>\n",
       "      <th>Quyết định</th>\n",
       "    </tr>\n",
       "  </thead>\n",
       "  <tbody>\n",
       "    <tr>\n",
       "      <th>0</th>\n",
       "      <td>-0.828317</td>\n",
       "    </tr>\n",
       "    <tr>\n",
       "      <th>1</th>\n",
       "      <td>-0.846774</td>\n",
       "    </tr>\n",
       "    <tr>\n",
       "      <th>2</th>\n",
       "      <td>-0.736327</td>\n",
       "    </tr>\n",
       "    <tr>\n",
       "      <th>3</th>\n",
       "      <td>-0.801194</td>\n",
       "    </tr>\n",
       "  </tbody>\n",
       "</table>\n",
       "</div>"
      ],
      "text/plain": [
       "   Quyết định\n",
       "0   -0.828317\n",
       "1   -0.846774\n",
       "2   -0.736327\n",
       "3   -0.801194"
      ]
     },
     "execution_count": 82,
     "metadata": {},
     "output_type": "execute_result"
    }
   ],
   "source": [
    "fa_loading_df_NPS"
   ]
  },
  {
   "cell_type": "markdown",
   "id": "b9c96d59",
   "metadata": {},
   "source": [
    "<strong><u>Nhận xét</u></strong>\n",
    "<p>Dựa vào phân tích các nhân tố quyết định sẽ được các đầu ra có ảnh hưởng như sau: </p>\n",
    "<table>\n",
    "    <tr>\n",
    "        <th>Quyết định</th>\n",
    "        <th> Đặc trưng </th>\n",
    "    </tr>\n",
    "    <tr>\n",
    "        <td>Quyết định 1</td>\n",
    "        <td>Tôi đã, đang và sẽ giao dịch tiền gửi tại MSB  </td>\n",
    "    </tr>\n",
    "    <tr>\n",
    "        <td>Quyết định 2</td>\n",
    "        <td>Tôi không phân vân khi gửi tiết kiệm tại MSB CN Đô Thành</td>\n",
    "    </tr>\n",
    "    <tr>\n",
    "        <td>Quyết định 3</td>\n",
    "        <td>Tôi tin rằng MSB - CN Đô Thành là nơi quyết định sáng suốt cho gửi tiền </td>\n",
    "    </tr>\n",
    "    <tr>\n",
    "        <td>Quyết định 4</td>\n",
    "        <td>Tôi sẽ giới thiệu những người có mối quan hệ gần gũi, thân thiết gửi tiền tiết kiệm tại MSB - CN Đô Thành </td>\n",
    "    </tr>\n",
    "</table>"
   ]
  },
  {
   "cell_type": "markdown",
   "id": "267fc295",
   "metadata": {},
   "source": [
    "### Biến đổi dữ liệu"
   ]
  },
  {
   "cell_type": "code",
   "execution_count": 83,
   "id": "ca3642bd",
   "metadata": {},
   "outputs": [],
   "source": [
    "data_master = pd.concat([persona_data,new_factor_data,factor_net_promoter_score],axis =1)"
   ]
  },
  {
   "cell_type": "code",
   "execution_count": 84,
   "id": "cbe28623",
   "metadata": {},
   "outputs": [
    {
     "data": {
      "text/html": [
       "<div>\n",
       "<style scoped>\n",
       "    .dataframe tbody tr th:only-of-type {\n",
       "        vertical-align: middle;\n",
       "    }\n",
       "\n",
       "    .dataframe tbody tr th {\n",
       "        vertical-align: top;\n",
       "    }\n",
       "\n",
       "    .dataframe thead th {\n",
       "        text-align: right;\n",
       "    }\n",
       "</style>\n",
       "<table border=\"1\" class=\"dataframe\">\n",
       "  <thead>\n",
       "    <tr style=\"text-align: right;\">\n",
       "      <th></th>\n",
       "      <th>Giới tính</th>\n",
       "      <th>Công việc hiện tại</th>\n",
       "      <th>Độ tuổi</th>\n",
       "      <th>Trình độ học vấn</th>\n",
       "      <th>Thu nhập mỗi tháng</th>\n",
       "      <th>Hình thức gửi tiết kiệm</th>\n",
       "      <th>Kỳ hạn gửi tiết kiệm</th>\n",
       "      <th>UTTH2</th>\n",
       "      <th>UTTH1</th>\n",
       "      <th>UTTH7</th>\n",
       "      <th>UTTH6</th>\n",
       "      <th>PLS2</th>\n",
       "      <th>PLS1</th>\n",
       "      <th>PLS4</th>\n",
       "      <th>PLS3</th>\n",
       "      <th>PLS5</th>\n",
       "      <th>QD1</th>\n",
       "      <th>QD2</th>\n",
       "      <th>QD3</th>\n",
       "      <th>QD4</th>\n",
       "    </tr>\n",
       "  </thead>\n",
       "  <tbody>\n",
       "    <tr>\n",
       "      <th>0</th>\n",
       "      <td>Nam</td>\n",
       "      <td>Nhân viên hành chính</td>\n",
       "      <td>18-30</td>\n",
       "      <td>Sau đại học</td>\n",
       "      <td>Từ 10 đến 15 triệu</td>\n",
       "      <td>Tiền gửi tiết kiệm MSB</td>\n",
       "      <td>Dưới 1 năm</td>\n",
       "      <td>5</td>\n",
       "      <td>5</td>\n",
       "      <td>5</td>\n",
       "      <td>5</td>\n",
       "      <td>5</td>\n",
       "      <td>5</td>\n",
       "      <td>5</td>\n",
       "      <td>4</td>\n",
       "      <td>5</td>\n",
       "      <td>5</td>\n",
       "      <td>5</td>\n",
       "      <td>5</td>\n",
       "      <td>5</td>\n",
       "    </tr>\n",
       "    <tr>\n",
       "      <th>1</th>\n",
       "      <td>Nữ</td>\n",
       "      <td>Nhân viên hành chính</td>\n",
       "      <td>18-30</td>\n",
       "      <td>Đại học</td>\n",
       "      <td>Dưới 10 triệu</td>\n",
       "      <td>Tiền gửi có kì hạn online cá nhân</td>\n",
       "      <td>Dưới 1 năm</td>\n",
       "      <td>3</td>\n",
       "      <td>3</td>\n",
       "      <td>3</td>\n",
       "      <td>3</td>\n",
       "      <td>3</td>\n",
       "      <td>3</td>\n",
       "      <td>4</td>\n",
       "      <td>5</td>\n",
       "      <td>3</td>\n",
       "      <td>3</td>\n",
       "      <td>3</td>\n",
       "      <td>3</td>\n",
       "      <td>3</td>\n",
       "    </tr>\n",
       "    <tr>\n",
       "      <th>2</th>\n",
       "      <td>Nữ</td>\n",
       "      <td>Nhân viên hành chính</td>\n",
       "      <td>18-30</td>\n",
       "      <td>Đại học</td>\n",
       "      <td>Dưới 10 triệu</td>\n",
       "      <td>Tiền gửi tích lũy</td>\n",
       "      <td>Dưới 1 năm</td>\n",
       "      <td>3</td>\n",
       "      <td>4</td>\n",
       "      <td>4</td>\n",
       "      <td>3</td>\n",
       "      <td>3</td>\n",
       "      <td>5</td>\n",
       "      <td>5</td>\n",
       "      <td>3</td>\n",
       "      <td>3</td>\n",
       "      <td>1</td>\n",
       "      <td>3</td>\n",
       "      <td>5</td>\n",
       "      <td>4</td>\n",
       "    </tr>\n",
       "    <tr>\n",
       "      <th>3</th>\n",
       "      <td>Nữ</td>\n",
       "      <td>Nhân viên hành chính</td>\n",
       "      <td>18-30</td>\n",
       "      <td>Đại học</td>\n",
       "      <td>Từ 10 đến 15 triệu</td>\n",
       "      <td>Tiền gửi có kì hạn online cá nhân</td>\n",
       "      <td>Dưới 1 năm</td>\n",
       "      <td>4</td>\n",
       "      <td>4</td>\n",
       "      <td>4</td>\n",
       "      <td>4</td>\n",
       "      <td>5</td>\n",
       "      <td>5</td>\n",
       "      <td>4</td>\n",
       "      <td>4</td>\n",
       "      <td>5</td>\n",
       "      <td>4</td>\n",
       "      <td>4</td>\n",
       "      <td>4</td>\n",
       "      <td>5</td>\n",
       "    </tr>\n",
       "    <tr>\n",
       "      <th>4</th>\n",
       "      <td>Nam</td>\n",
       "      <td>Điều hành, quản lý</td>\n",
       "      <td>31- 40</td>\n",
       "      <td>Đại học</td>\n",
       "      <td>Trên 20 triệu</td>\n",
       "      <td>Tiền gửi thanh toán</td>\n",
       "      <td>Dưới 1 năm</td>\n",
       "      <td>4</td>\n",
       "      <td>4</td>\n",
       "      <td>4</td>\n",
       "      <td>4</td>\n",
       "      <td>4</td>\n",
       "      <td>4</td>\n",
       "      <td>5</td>\n",
       "      <td>2</td>\n",
       "      <td>4</td>\n",
       "      <td>4</td>\n",
       "      <td>4</td>\n",
       "      <td>4</td>\n",
       "      <td>4</td>\n",
       "    </tr>\n",
       "  </tbody>\n",
       "</table>\n",
       "</div>"
      ],
      "text/plain": [
       "  Giới tính     Công việc hiện tại Độ tuổi  Trình độ học vấn   \\\n",
       "0       Nam   Nhân viên hành chính    18-30       Sau đại học   \n",
       "1        Nữ   Nhân viên hành chính    18-30           Đại học   \n",
       "2        Nữ   Nhân viên hành chính    18-30           Đại học   \n",
       "3        Nữ   Nhân viên hành chính    18-30           Đại học   \n",
       "4       Nam     Điều hành, quản lý   31- 40           Đại học   \n",
       "\n",
       "   Thu nhập mỗi tháng             Hình thức gửi tiết kiệm  \\\n",
       "0  Từ 10 đến 15 triệu              Tiền gửi tiết kiệm MSB   \n",
       "1       Dưới 10 triệu   Tiền gửi có kì hạn online cá nhân   \n",
       "2       Dưới 10 triệu                   Tiền gửi tích lũy   \n",
       "3  Từ 10 đến 15 triệu   Tiền gửi có kì hạn online cá nhân   \n",
       "4       Trên 20 triệu                 Tiền gửi thanh toán   \n",
       "\n",
       "  Kỳ hạn gửi tiết kiệm  UTTH2  UTTH1  UTTH7  UTTH6  PLS2  PLS1  PLS4  PLS3  \\\n",
       "0           Dưới 1 năm      5      5      5      5     5     5     5     4   \n",
       "1           Dưới 1 năm      3      3      3      3     3     3     4     5   \n",
       "2           Dưới 1 năm      3      4      4      3     3     5     5     3   \n",
       "3           Dưới 1 năm      4      4      4      4     5     5     4     4   \n",
       "4           Dưới 1 năm      4      4      4      4     4     4     5     2   \n",
       "\n",
       "   PLS5  QD1  QD2  QD3  QD4  \n",
       "0     5    5    5    5    5  \n",
       "1     3    3    3    3    3  \n",
       "2     3    1    3    5    4  \n",
       "3     5    4    4    4    5  \n",
       "4     4    4    4    4    4  "
      ]
     },
     "execution_count": 84,
     "metadata": {},
     "output_type": "execute_result"
    }
   ],
   "source": [
    "data_master.head(5)"
   ]
  },
  {
   "cell_type": "code",
   "execution_count": 71,
   "id": "f7b0039e",
   "metadata": {},
   "outputs": [],
   "source": [
    "data_master.to_excel('Master_data.xlsx', index = False)"
   ]
  },
  {
   "cell_type": "markdown",
   "id": "3e156d24",
   "metadata": {},
   "source": [
    "## Khảo sát sự khác biệt của các đặc điểm nhân khẩu học và hành vi khách hàng với quyết định gửi tiết kiệm ở Ngân hàng MSB chi nhánh Đô Thành\n",
    "\n",
    "<p><strong><u>H0: </u></strong>Không có sự khác biệt giữa các nhóm trong quyết định gửi tiết kiệm </p>\n",
    "<p><strong><u>H1: </u></strong> Quyết định gửi tiết kiệm trong các nhóm là khác biệt</p>\n",
    "\n",
    "<table>\n",
    "    <tr>\n",
    "        <th>Mức độ</th>\n",
    "        <th> Chú giải </th>\n",
    "    </tr>\n",
    "    <tr>\n",
    "        <td>1</td>\n",
    "        <td>Rất không đồng ý </td>\n",
    "    </tr>\n",
    "    <tr>\n",
    "        <td> 2</td>\n",
    "        <td>Không đồng ý</td>\n",
    "    </tr>\n",
    "    <tr>\n",
    "        <td>3</td>\n",
    "        <td>Trung lập </td>\n",
    "    </tr>\n",
    "    <tr>\n",
    "        <td>4</td>\n",
    "        <td>Đồng ý </td>\n",
    "    </tr>\n",
    "     <tr>\n",
    "        <td>5</td>\n",
    "        <td>Rất Đồng ý </td>\n",
    "    </tr>\n",
    "</table>"
   ]
  },
  {
   "cell_type": "code",
   "execution_count": 220,
   "id": "81fd055c",
   "metadata": {},
   "outputs": [],
   "source": [
    "statics_data = pd.read_excel('Master_data.xlsx',sheet_name = 'test')"
   ]
  },
  {
   "cell_type": "code",
   "execution_count": 221,
   "id": "8f6e6d82",
   "metadata": {},
   "outputs": [
    {
     "data": {
      "text/plain": [
       "(382, 11)"
      ]
     },
     "execution_count": 221,
     "metadata": {},
     "output_type": "execute_result"
    }
   ],
   "source": [
    "statics_data.shape"
   ]
  },
  {
   "cell_type": "code",
   "execution_count": 222,
   "id": "d2bbe532",
   "metadata": {
    "scrolled": true
   },
   "outputs": [
    {
     "data": {
      "text/html": [
       "<div>\n",
       "<style scoped>\n",
       "    .dataframe tbody tr th:only-of-type {\n",
       "        vertical-align: middle;\n",
       "    }\n",
       "\n",
       "    .dataframe tbody tr th {\n",
       "        vertical-align: top;\n",
       "    }\n",
       "\n",
       "    .dataframe thead th {\n",
       "        text-align: right;\n",
       "    }\n",
       "</style>\n",
       "<table border=\"1\" class=\"dataframe\">\n",
       "  <thead>\n",
       "    <tr style=\"text-align: right;\">\n",
       "      <th></th>\n",
       "      <th>Sex</th>\n",
       "      <th>Job</th>\n",
       "      <th>Old</th>\n",
       "      <th>Study</th>\n",
       "      <th>Salary</th>\n",
       "      <th>Method</th>\n",
       "      <th>Time</th>\n",
       "      <th>QD1</th>\n",
       "      <th>QD2</th>\n",
       "      <th>QD3</th>\n",
       "      <th>QD4</th>\n",
       "    </tr>\n",
       "  </thead>\n",
       "  <tbody>\n",
       "    <tr>\n",
       "      <th>0</th>\n",
       "      <td>Nam</td>\n",
       "      <td>Nhân viên hành chính</td>\n",
       "      <td>Từ 18 đến 30</td>\n",
       "      <td>Sau đại học</td>\n",
       "      <td>Từ 10 đến 15 triệu</td>\n",
       "      <td>Tiền gửi tiết kiệm MSB</td>\n",
       "      <td>Dưới 1 năm</td>\n",
       "      <td>5</td>\n",
       "      <td>5</td>\n",
       "      <td>5</td>\n",
       "      <td>5</td>\n",
       "    </tr>\n",
       "    <tr>\n",
       "      <th>1</th>\n",
       "      <td>Nữ</td>\n",
       "      <td>Nhân viên hành chính</td>\n",
       "      <td>Từ 18 đến 30</td>\n",
       "      <td>Đại học</td>\n",
       "      <td>Dưới 10 triệu</td>\n",
       "      <td>Tiền gửi có kì hạn online cá nhân</td>\n",
       "      <td>Dưới 1 năm</td>\n",
       "      <td>3</td>\n",
       "      <td>3</td>\n",
       "      <td>3</td>\n",
       "      <td>3</td>\n",
       "    </tr>\n",
       "    <tr>\n",
       "      <th>2</th>\n",
       "      <td>Nữ</td>\n",
       "      <td>Nhân viên hành chính</td>\n",
       "      <td>Từ 18 đến 30</td>\n",
       "      <td>Đại học</td>\n",
       "      <td>Dưới 10 triệu</td>\n",
       "      <td>Tiền gửi tích lũy</td>\n",
       "      <td>Dưới 1 năm</td>\n",
       "      <td>1</td>\n",
       "      <td>3</td>\n",
       "      <td>5</td>\n",
       "      <td>4</td>\n",
       "    </tr>\n",
       "    <tr>\n",
       "      <th>3</th>\n",
       "      <td>Nữ</td>\n",
       "      <td>Nhân viên hành chính</td>\n",
       "      <td>Từ 18 đến 30</td>\n",
       "      <td>Đại học</td>\n",
       "      <td>Từ 10 đến 15 triệu</td>\n",
       "      <td>Tiền gửi có kì hạn online cá nhân</td>\n",
       "      <td>Dưới 1 năm</td>\n",
       "      <td>4</td>\n",
       "      <td>4</td>\n",
       "      <td>4</td>\n",
       "      <td>5</td>\n",
       "    </tr>\n",
       "    <tr>\n",
       "      <th>4</th>\n",
       "      <td>Nam</td>\n",
       "      <td>Điều hành, quản lý</td>\n",
       "      <td>Từ 31 đến  40</td>\n",
       "      <td>Đại học</td>\n",
       "      <td>Trên 20 triệu</td>\n",
       "      <td>Tiền gửi thanh toán</td>\n",
       "      <td>Dưới 1 năm</td>\n",
       "      <td>4</td>\n",
       "      <td>4</td>\n",
       "      <td>4</td>\n",
       "      <td>4</td>\n",
       "    </tr>\n",
       "  </tbody>\n",
       "</table>\n",
       "</div>"
      ],
      "text/plain": [
       "    Sex                    Job            Old         Study  \\\n",
       "0   Nam   Nhân viên hành chính  Từ 18 đến 30    Sau đại học   \n",
       "1    Nữ   Nhân viên hành chính  Từ 18 đến 30        Đại học   \n",
       "2    Nữ   Nhân viên hành chính  Từ 18 đến 30        Đại học   \n",
       "3    Nữ   Nhân viên hành chính  Từ 18 đến 30        Đại học   \n",
       "4   Nam     Điều hành, quản lý  Từ 31 đến  40       Đại học   \n",
       "\n",
       "               Salary                              Method        Time  QD1  \\\n",
       "0  Từ 10 đến 15 triệu              Tiền gửi tiết kiệm MSB  Dưới 1 năm    5   \n",
       "1       Dưới 10 triệu   Tiền gửi có kì hạn online cá nhân  Dưới 1 năm    3   \n",
       "2       Dưới 10 triệu                   Tiền gửi tích lũy  Dưới 1 năm    1   \n",
       "3  Từ 10 đến 15 triệu   Tiền gửi có kì hạn online cá nhân  Dưới 1 năm    4   \n",
       "4       Trên 20 triệu                 Tiền gửi thanh toán  Dưới 1 năm    4   \n",
       "\n",
       "   QD2  QD3  QD4  \n",
       "0    5    5    5  \n",
       "1    3    3    3  \n",
       "2    3    5    4  \n",
       "3    4    4    5  \n",
       "4    4    4    4  "
      ]
     },
     "execution_count": 222,
     "metadata": {},
     "output_type": "execute_result"
    }
   ],
   "source": [
    "statics_data.head()"
   ]
  },
  {
   "cell_type": "code",
   "execution_count": 223,
   "id": "e4c06ce2",
   "metadata": {},
   "outputs": [],
   "source": [
    "stt_data = statics_data.copy()"
   ]
  },
  {
   "cell_type": "code",
   "execution_count": 224,
   "id": "e5a2e71d",
   "metadata": {},
   "outputs": [
    {
     "data": {
      "text/plain": [
       "Index(['Sex', 'Job', 'Old', 'Study', 'Salary', 'Method', 'Time', 'QD1', 'QD2',\n",
       "       'QD3', 'QD4'],\n",
       "      dtype='object')"
      ]
     },
     "execution_count": 224,
     "metadata": {},
     "output_type": "execute_result"
    }
   ],
   "source": [
    "stt_data.columns"
   ]
  },
  {
   "cell_type": "markdown",
   "id": "42605906",
   "metadata": {},
   "source": [
    "### Kiểm định thống kê\n"
   ]
  },
  {
   "cell_type": "markdown",
   "id": "2833412c",
   "metadata": {},
   "source": [
    "### Quyết định 1 : Tôi đã, đang và sẽ giao dịch tiền gửi tại MSB </strong>"
   ]
  },
  {
   "cell_type": "code",
   "execution_count": 225,
   "id": "02e3f148",
   "metadata": {},
   "outputs": [],
   "source": [
    "from scipy.stats import f_oneway"
   ]
  },
  {
   "cell_type": "markdown",
   "id": "58f3ffbc",
   "metadata": {},
   "source": [
    "<strong>Nhân khẩu học và hành vi </strong>"
   ]
  },
  {
   "cell_type": "markdown",
   "id": "66fa894a",
   "metadata": {},
   "source": [
    "<strong>Giới tính</strong>"
   ]
  },
  {
   "cell_type": "code",
   "execution_count": 226,
   "id": "a87e275c",
   "metadata": {},
   "outputs": [],
   "source": [
    "df_Sex = stt_data[[\"Sex\", \"QD1\"]]"
   ]
  },
  {
   "cell_type": "code",
   "execution_count": 227,
   "id": "1b71700f",
   "metadata": {},
   "outputs": [],
   "source": [
    "Categorical_Sex = df_Sex.groupby('Sex')['QD1'].apply(list)"
   ]
  },
  {
   "cell_type": "code",
   "execution_count": 228,
   "id": "43e3e5c9",
   "metadata": {},
   "outputs": [],
   "source": [
    "AnovaResults = f_oneway(*Categorical_Sex)"
   ]
  },
  {
   "cell_type": "code",
   "execution_count": 229,
   "id": "ec77b726",
   "metadata": {
    "scrolled": true
   },
   "outputs": [
    {
     "name": "stdout",
     "output_type": "stream",
     "text": [
      "P-value for Anova is:  0.15500453574154388\n"
     ]
    }
   ],
   "source": [
    "print('P-value for Anova is: ', AnovaResults[1])"
   ]
  },
  {
   "cell_type": "markdown",
   "id": "5b7fa188",
   "metadata": {},
   "source": [
    "<strong><u>Nhận xét</u></strong>\n",
    "<p>Vì P-value > 0.05 thế nên không thể bác bỏ H0, nên không tìm ra sự khác biệt trong quyết định đã, đang và sẽ giao dịch tiền gửi tại MSB của đặc trưng giới tính của khách hàng</p>"
   ]
  },
  {
   "cell_type": "markdown",
   "id": "59ea3c0e",
   "metadata": {},
   "source": [
    "<strong>Công việc hiện tại</strong>"
   ]
  },
  {
   "cell_type": "code",
   "execution_count": 246,
   "id": "dc1a04b3",
   "metadata": {},
   "outputs": [],
   "source": [
    "df_job = stt_data[['Job','QD1']]"
   ]
  },
  {
   "cell_type": "code",
   "execution_count": 232,
   "id": "18208243",
   "metadata": {
    "scrolled": true
   },
   "outputs": [
    {
     "name": "stdout",
     "output_type": "stream",
     "text": [
      "p-value for Anova is:  0.06764331899444576\n"
     ]
    }
   ],
   "source": [
    "Categorical_Job = df_job.groupby('Job')['QD1'].apply(list)\n",
    "AnovaResult_Job = f_oneway(*Categorical_Job)\n",
    "print('p-value for Anova is: ', AnovaResult_Job[1])"
   ]
  },
  {
   "cell_type": "markdown",
   "id": "f44dda03",
   "metadata": {},
   "source": [
    "<strong><u>Nhận xét</u></strong>\n",
    "<p>Vì P-value > 0.05 thế nên không thể bác bỏ H0, nên không tìm ra sự khác biệt trong quyết định đã, đang và sẽ giao dịch tiền gửi tại MSB của đặc trưng công việc của khách hàng</p>"
   ]
  },
  {
   "cell_type": "markdown",
   "id": "9d2424d2",
   "metadata": {},
   "source": [
    "<strong>Độ tuổi</strong>"
   ]
  },
  {
   "cell_type": "code",
   "execution_count": 234,
   "id": "9c5136c5",
   "metadata": {},
   "outputs": [],
   "source": [
    "df_old = stt_data[['Old','QD1']]"
   ]
  },
  {
   "cell_type": "code",
   "execution_count": 235,
   "id": "6bf28c23",
   "metadata": {},
   "outputs": [
    {
     "data": {
      "text/html": [
       "<div>\n",
       "<style scoped>\n",
       "    .dataframe tbody tr th:only-of-type {\n",
       "        vertical-align: middle;\n",
       "    }\n",
       "\n",
       "    .dataframe tbody tr th {\n",
       "        vertical-align: top;\n",
       "    }\n",
       "\n",
       "    .dataframe thead th {\n",
       "        text-align: right;\n",
       "    }\n",
       "</style>\n",
       "<table border=\"1\" class=\"dataframe\">\n",
       "  <thead>\n",
       "    <tr style=\"text-align: right;\">\n",
       "      <th></th>\n",
       "      <th>Old</th>\n",
       "      <th>QD1</th>\n",
       "    </tr>\n",
       "  </thead>\n",
       "  <tbody>\n",
       "    <tr>\n",
       "      <th>0</th>\n",
       "      <td>Từ 18 đến 30</td>\n",
       "      <td>5</td>\n",
       "    </tr>\n",
       "    <tr>\n",
       "      <th>1</th>\n",
       "      <td>Từ 18 đến 30</td>\n",
       "      <td>3</td>\n",
       "    </tr>\n",
       "    <tr>\n",
       "      <th>2</th>\n",
       "      <td>Từ 18 đến 30</td>\n",
       "      <td>1</td>\n",
       "    </tr>\n",
       "    <tr>\n",
       "      <th>3</th>\n",
       "      <td>Từ 18 đến 30</td>\n",
       "      <td>4</td>\n",
       "    </tr>\n",
       "    <tr>\n",
       "      <th>4</th>\n",
       "      <td>Từ 31 đến  40</td>\n",
       "      <td>4</td>\n",
       "    </tr>\n",
       "    <tr>\n",
       "      <th>...</th>\n",
       "      <td>...</td>\n",
       "      <td>...</td>\n",
       "    </tr>\n",
       "    <tr>\n",
       "      <th>377</th>\n",
       "      <td>Từ 31 đến  40</td>\n",
       "      <td>5</td>\n",
       "    </tr>\n",
       "    <tr>\n",
       "      <th>378</th>\n",
       "      <td>Từ 41 đến 50</td>\n",
       "      <td>4</td>\n",
       "    </tr>\n",
       "    <tr>\n",
       "      <th>379</th>\n",
       "      <td>Từ 31 đến  40</td>\n",
       "      <td>4</td>\n",
       "    </tr>\n",
       "    <tr>\n",
       "      <th>380</th>\n",
       "      <td>Từ 41 đến 50</td>\n",
       "      <td>5</td>\n",
       "    </tr>\n",
       "    <tr>\n",
       "      <th>381</th>\n",
       "      <td>Từ 18 đến 30</td>\n",
       "      <td>4</td>\n",
       "    </tr>\n",
       "  </tbody>\n",
       "</table>\n",
       "<p>382 rows × 2 columns</p>\n",
       "</div>"
      ],
      "text/plain": [
       "               Old  QD1\n",
       "0    Từ 18 đến 30     5\n",
       "1    Từ 18 đến 30     3\n",
       "2    Từ 18 đến 30     1\n",
       "3    Từ 18 đến 30     4\n",
       "4    Từ 31 đến  40    4\n",
       "..             ...  ...\n",
       "377  Từ 31 đến  40    5\n",
       "378   Từ 41 đến 50    4\n",
       "379  Từ 31 đến  40    4\n",
       "380   Từ 41 đến 50    5\n",
       "381   Từ 18 đến 30    4\n",
       "\n",
       "[382 rows x 2 columns]"
      ]
     },
     "execution_count": 235,
     "metadata": {},
     "output_type": "execute_result"
    }
   ],
   "source": [
    "df_old"
   ]
  },
  {
   "cell_type": "code",
   "execution_count": 236,
   "id": "a9d46ba0",
   "metadata": {},
   "outputs": [],
   "source": [
    "Categorical_old = df_old.groupby('Old')['QD1'].apply(list)\n"
   ]
  },
  {
   "cell_type": "code",
   "execution_count": 237,
   "id": "98ddef86",
   "metadata": {
    "scrolled": true
   },
   "outputs": [
    {
     "name": "stdout",
     "output_type": "stream",
     "text": [
      "p-value for Anova is:  0.00152513744666269\n"
     ]
    }
   ],
   "source": [
    "AnovaResult_old = f_oneway(*Categorical_old)\n",
    "print('p-value for Anova is: ', AnovaResult_old[1])"
   ]
  },
  {
   "cell_type": "markdown",
   "id": "9daa323f",
   "metadata": {},
   "source": [
    "<strong><u>Nhận xét: </u></strong>\n",
    "<p>Vì p-value nhỏ hơn 0.05, nên bác bỏ H0 và chấp nhận H1. Có sự khác biệt giữa quyết định đã, đang và sẽ gửi tiền tiết kiệm tại MSB chi nhánh Đô Thành với những khách hàng có độ tuổi khác nhau </p>"
   ]
  },
  {
   "cell_type": "markdown",
   "id": "eb979f76",
   "metadata": {},
   "source": [
    "<strong>Trình độ </strong>"
   ]
  },
  {
   "cell_type": "code",
   "execution_count": 262,
   "id": "53aa8334",
   "metadata": {},
   "outputs": [],
   "source": [
    "df_grade = stt_data[['Study','QD1']]"
   ]
  },
  {
   "cell_type": "code",
   "execution_count": 263,
   "id": "cbec983e",
   "metadata": {},
   "outputs": [],
   "source": [
    "Categorical_study = df_grade.groupby('Study')['QD1'].apply(list)"
   ]
  },
  {
   "cell_type": "code",
   "execution_count": 264,
   "id": "c11ded20",
   "metadata": {
    "scrolled": true
   },
   "outputs": [
    {
     "name": "stdout",
     "output_type": "stream",
     "text": [
      "p-value for Anova is:  0.18917066026383325\n"
     ]
    }
   ],
   "source": [
    "AnovaResult_grade = f_oneway(*Categorical_study)\n",
    "print('p-value for Anova is: ', AnovaResult_grade[1])"
   ]
  },
  {
   "cell_type": "markdown",
   "id": "12606694",
   "metadata": {},
   "source": [
    "<strong><u>Nhận xét</u></strong>\n",
    "<p>Vì P-value > 0.05 thế nên không thể bác bỏ H0, nên không tìm ra sự khác biệt trong quyết định đã, đang và sẽ giao dịch tiền gửi tại MSB của đặc trưng trình độ của khách hàng</p>"
   ]
  },
  {
   "cell_type": "markdown",
   "id": "197abab4",
   "metadata": {},
   "source": [
    "<strong>Mức lương </strong>"
   ]
  },
  {
   "cell_type": "code",
   "execution_count": 250,
   "id": "be2322cb",
   "metadata": {},
   "outputs": [],
   "source": [
    "df_salary = stt_data[[\"Salary\", \"QD1\"]]"
   ]
  },
  {
   "cell_type": "code",
   "execution_count": 252,
   "id": "03b5cbf7",
   "metadata": {
    "scrolled": true
   },
   "outputs": [
    {
     "name": "stdout",
     "output_type": "stream",
     "text": [
      "p-value for Anova is:  0.006702956880183896\n"
     ]
    }
   ],
   "source": [
    "Categorical_Salary = df_salary.groupby(\"Salary\")['QD1'].apply(list)\n",
    "AnovaResult_Salary = f_oneway(*Categorical_Salary)\n",
    "print('p-value for Anova is: ', AnovaResult_Salary[1])"
   ]
  },
  {
   "cell_type": "markdown",
   "id": "98fcfd5d",
   "metadata": {},
   "source": [
    "<strong><u>Nhận xét: </u></strong>\n",
    "<p>Vì p-value nhỏ hơn 0.05, nên bác bỏ H0 và chấp nhận H1. Có sự khác biệt giữa quyết định đã, đang và sẽ gửi tiền tiết kiệm tại MSB chi nhánh Đô Thành với những khách hàng có mức lương khác nhau </p>"
   ]
  },
  {
   "cell_type": "markdown",
   "id": "62a7b420",
   "metadata": {},
   "source": [
    "<strong>Phương thức</strong>"
   ]
  },
  {
   "cell_type": "code",
   "execution_count": 280,
   "id": "6995585b",
   "metadata": {},
   "outputs": [],
   "source": [
    "df_method = stt_data[[\"Method\", \"QD1\"]]"
   ]
  },
  {
   "cell_type": "code",
   "execution_count": 281,
   "id": "8add9e9f",
   "metadata": {
    "scrolled": true
   },
   "outputs": [
    {
     "name": "stdout",
     "output_type": "stream",
     "text": [
      "p-value for Anova is:  2.071705744761188e-06\n"
     ]
    }
   ],
   "source": [
    "Categorical_method = df_method.groupby(\"Method\")['QD1'].apply(list)\n",
    "AnovaResult_method = f_oneway(*Categorical_method)\n",
    "print('p-value for Anova is: ', AnovaResult_method[1])"
   ]
  },
  {
   "cell_type": "markdown",
   "id": "333946b1",
   "metadata": {},
   "source": [
    "<strong><u>Nhận xét: </u></strong>\n",
    "<p>Vì p-value nhỏ hơn 0.05, nên bác bỏ H0 và chấp nhận H1. Có sự khác biệt giữa quyết định đã, đang và sẽ gửi tiền tiết kiệm tại MSB chi nhánh Đô Thành với những khách hàng có hình thức gửi tiền khác nhau </p>"
   ]
  },
  {
   "cell_type": "markdown",
   "id": "fc6e2af3",
   "metadata": {},
   "source": [
    "<strong>Kỳ hạn</strong>"
   ]
  },
  {
   "cell_type": "code",
   "execution_count": 257,
   "id": "c1cd5590",
   "metadata": {},
   "outputs": [],
   "source": [
    "df_time= stt_data[[\"Time\", \"QD1\"]]"
   ]
  },
  {
   "cell_type": "code",
   "execution_count": 260,
   "id": "aa04725b",
   "metadata": {},
   "outputs": [
    {
     "name": "stdout",
     "output_type": "stream",
     "text": [
      "p-value for Anova is:  0.051440975075947144\n"
     ]
    }
   ],
   "source": [
    "Categorical_time = df_time.groupby('Time')['QD1'].apply(list)\n",
    "AnovaResult_time = f_oneway(*Categorical_time)\n",
    "print('p-value for Anova is: ', AnovaResult_time[1])"
   ]
  },
  {
   "cell_type": "markdown",
   "id": "ef9a7b61",
   "metadata": {},
   "source": [
    "<strong><u>Nhận xét</u></strong>\n",
    "<p>Vì P-value > 0.05 thế nên không thể bác bỏ H0, nên không tìm ra sự khác biệt trong quyết định đã, đang và sẽ giao dịch tiền gửi tại MSB của đặc trưng kỳ hạn gửi tiền của khách hàng</p>"
   ]
  },
  {
   "cell_type": "markdown",
   "id": "31084846",
   "metadata": {},
   "source": [
    "### Quyết định 2 : Tôi không phân vân khi gửi tiết kiệm tại MSB CN Đô Thành"
   ]
  },
  {
   "cell_type": "markdown",
   "id": "1c9a27e2",
   "metadata": {},
   "source": [
    "<strong>Nhân khẩu học và hành vi </strong>"
   ]
  },
  {
   "cell_type": "markdown",
   "id": "b61449e1",
   "metadata": {},
   "source": [
    "<strong> Giới tính </strong>"
   ]
  },
  {
   "cell_type": "code",
   "execution_count": 267,
   "id": "36697018",
   "metadata": {},
   "outputs": [],
   "source": [
    "df_Sex = stt_data[[\"Sex\", \"QD2\"]]"
   ]
  },
  {
   "cell_type": "code",
   "execution_count": 268,
   "id": "546cdc6f",
   "metadata": {},
   "outputs": [
    {
     "name": "stdout",
     "output_type": "stream",
     "text": [
      "P-value for Anova is:  0.5453147720259204\n"
     ]
    }
   ],
   "source": [
    "Categorical_Sex = df_Sex.groupby('Sex')['QD2'].apply(list)\n",
    "AnovaResults = f_oneway(*Categorical_Sex)\n",
    "print('P-value for Anova is: ', AnovaResults[1])"
   ]
  },
  {
   "cell_type": "markdown",
   "id": "6c5c911b",
   "metadata": {},
   "source": [
    "<strong><u>Nhận xét</u></strong>\n",
    "<p>Vì P-value > 0.05 thế nên không thể bác bỏ H0, nên không tìm ra sự khác biệt trong quyết định không phân vân khi gửi tiền tại MSB của đặc trưng giới tính của khách hàng</p>"
   ]
  },
  {
   "cell_type": "markdown",
   "id": "6667b4bb",
   "metadata": {},
   "source": [
    "<strong>Công việc</strong>"
   ]
  },
  {
   "cell_type": "code",
   "execution_count": 269,
   "id": "4c6bf176",
   "metadata": {
    "scrolled": true
   },
   "outputs": [
    {
     "name": "stdout",
     "output_type": "stream",
     "text": [
      "p-value for Anova is:  0.01846222608452409\n"
     ]
    }
   ],
   "source": [
    "df_job = stt_data[['Job','QD2']]\n",
    "Categorical_Job = df_job.groupby('Job')['QD2'].apply(list)\n",
    "AnovaResult_Job = f_oneway(*Categorical_Job)\n",
    "print('p-value for Anova is: ', AnovaResult_Job[1])"
   ]
  },
  {
   "cell_type": "markdown",
   "id": "abbf4217",
   "metadata": {},
   "source": [
    "<strong><u>Nhận xét: </u></strong>\n",
    "<p>Vì p-value nhỏ hơn 0.05, nên bác bỏ H0 và chấp nhận H1. Có sự khác biệt giữa quyết định không phân vân khi gửi tiền tại MSB chi nhánh Đô Thành với những khách hàng có công việc khác nhau </p>"
   ]
  },
  {
   "cell_type": "markdown",
   "id": "9f4668b8",
   "metadata": {},
   "source": [
    "<strong>Độ tuổi</strong>"
   ]
  },
  {
   "cell_type": "code",
   "execution_count": 272,
   "id": "00e359df",
   "metadata": {},
   "outputs": [
    {
     "name": "stdout",
     "output_type": "stream",
     "text": [
      "p-value for Anova is:  0.0006394143901818898\n"
     ]
    }
   ],
   "source": [
    "df_old = stt_data[['Old','QD2']]\n",
    "Categorical_old = df_old.groupby('Old')['QD2'].apply(list)\n",
    "AnovaResult_old = f_oneway(*Categorical_old)\n",
    "print('p-value for Anova is: ', AnovaResult_old[1])"
   ]
  },
  {
   "cell_type": "markdown",
   "id": "97775628",
   "metadata": {},
   "source": [
    "<strong><u>Nhận xét: </u></strong>\n",
    "<p>Vì p-value nhỏ hơn 0.05, nên bác bỏ H0 và chấp nhận H1. Có sự khác biệt giữa quyết định không phân vân khi gửi tiền tại MSB chi nhánh Đô Thành với những khách hàng có độ tuổi khác nhau </p>"
   ]
  },
  {
   "cell_type": "markdown",
   "id": "fd6b3630",
   "metadata": {},
   "source": [
    "<strong>Trình độ</strong>\n"
   ]
  },
  {
   "cell_type": "code",
   "execution_count": 273,
   "id": "d86853a9",
   "metadata": {},
   "outputs": [
    {
     "name": "stdout",
     "output_type": "stream",
     "text": [
      "p-value for Anova is:  0.15243032633131534\n"
     ]
    }
   ],
   "source": [
    "df_grade = stt_data[['Study','QD2']]\n",
    "Categorical_study = df_grade.groupby('Study')['QD2'].apply(list)\n",
    "AnovaResult_grade = f_oneway(*Categorical_study)\n",
    "print('p-value for Anova is: ', AnovaResult_grade[1])"
   ]
  },
  {
   "cell_type": "markdown",
   "id": "6b4f827e",
   "metadata": {},
   "source": [
    "<strong><u>Nhận xét</u></strong>\n",
    "<p>Vì P-value > 0.05 thế nên không thể bác bỏ H0, nên không tìm ra sự khác biệt trong quyết định không phân vân khi gửi tiền tại MSB của đặc trưng trình độ học vấn của khách hàng</p>"
   ]
  },
  {
   "cell_type": "markdown",
   "id": "c95317fa",
   "metadata": {},
   "source": [
    "<strong>Mức lương </strong>"
   ]
  },
  {
   "cell_type": "code",
   "execution_count": 275,
   "id": "ddff2665",
   "metadata": {},
   "outputs": [
    {
     "name": "stdout",
     "output_type": "stream",
     "text": [
      "p-value for Anova is:  0.009397358641281616\n"
     ]
    }
   ],
   "source": [
    "df_salary = stt_data[[\"Salary\", \"QD2\"]]\n",
    "Categorical_Salary = df_salary.groupby(\"Salary\")['QD2'].apply(list)\n",
    "AnovaResult_Salary = f_oneway(*Categorical_Salary)\n",
    "print('p-value for Anova is: ', AnovaResult_Salary[1])"
   ]
  },
  {
   "cell_type": "markdown",
   "id": "76a41392",
   "metadata": {},
   "source": [
    "<strong><u>Nhận xét: </u></strong>\n",
    "<p>Vì p-value nhỏ hơn 0.05, nên bác bỏ H0 và chấp nhận H1. Có sự khác biệt giữa quyết định không phân vân khi gửi tiền tại MSB chi nhánh Đô Thành với những khách hàng có mức lương khác nhau </p>"
   ]
  },
  {
   "cell_type": "markdown",
   "id": "8e2bfad5",
   "metadata": {},
   "source": [
    "<strong>Phương thức</strong>"
   ]
  },
  {
   "cell_type": "code",
   "execution_count": 278,
   "id": "57efacc0",
   "metadata": {},
   "outputs": [
    {
     "name": "stdout",
     "output_type": "stream",
     "text": [
      "p-value for Anova is:  0.0019099025724204001\n"
     ]
    }
   ],
   "source": [
    "df_method = stt_data[[\"Method\", \"QD2\"]]\n",
    "Categorical_method = df_method.groupby(\"Method\")['QD2'].apply(list)\n",
    "AnovaResult_method = f_oneway(*Categorical_method)\n",
    "print('p-value for Anova is: ', AnovaResult_method[1])"
   ]
  },
  {
   "cell_type": "markdown",
   "id": "a743f73e",
   "metadata": {},
   "source": [
    "<strong><u>Nhận xét: </u></strong>\n",
    "<p>Vì p-value nhỏ hơn 0.05, nên bác bỏ H0 và chấp nhận H1. Có sự khác biệt giữa quyết định không phân vân khi gửi tiền tại MSB chi nhánh Đô Thành với những khách hàng có hình thức gửi tiền khác nhau </p>"
   ]
  },
  {
   "cell_type": "markdown",
   "id": "da577c2d",
   "metadata": {},
   "source": [
    "<strong>Kỳ hạn gửi</strong>"
   ]
  },
  {
   "cell_type": "code",
   "execution_count": 283,
   "id": "e5feb5a7",
   "metadata": {},
   "outputs": [
    {
     "name": "stdout",
     "output_type": "stream",
     "text": [
      "p-value for Anova is:  0.011930187441648435\n"
     ]
    }
   ],
   "source": [
    "df_time= stt_data[[\"Time\", \"QD2\"]]\n",
    "Categorical_time = df_time.groupby('Time')['QD2'].apply(list)\n",
    "AnovaResult_time = f_oneway(*Categorical_time)\n",
    "print('p-value for Anova is: ', AnovaResult_time[1])\n"
   ]
  },
  {
   "cell_type": "markdown",
   "id": "6ddcf232",
   "metadata": {},
   "source": [
    "<strong><u>Nhận xét: </u></strong>\n",
    "<p>Vì p-value nhỏ hơn 0.05, nên bác bỏ H0 và chấp nhận H1. Có sự khác biệt giữa quyết định không phân vân khi gửi tiền tại MSB chi nhánh Đô Thành với những khách hàng có thời hạn gửi tiền khác nhau </p>"
   ]
  },
  {
   "cell_type": "markdown",
   "id": "5dc8e046",
   "metadata": {},
   "source": [
    "### Quyết định 3: Tôi tin rằng MSB - CN Đô Thành là nơi quyết định sáng suốt cho gửi tiền"
   ]
  },
  {
   "cell_type": "markdown",
   "id": "5aa24c00",
   "metadata": {},
   "source": [
    "<strong>Nhân khẩu học và hành vi</strong>"
   ]
  },
  {
   "cell_type": "markdown",
   "id": "a52ee41e",
   "metadata": {},
   "source": [
    "<strong>Giới tính </strong>"
   ]
  },
  {
   "cell_type": "code",
   "execution_count": 287,
   "id": "0c0cc9b6",
   "metadata": {
    "scrolled": true
   },
   "outputs": [
    {
     "name": "stdout",
     "output_type": "stream",
     "text": [
      "P-value for Anova is:  0.39884159162430977\n"
     ]
    }
   ],
   "source": [
    "df_Sex = stt_data[[\"Sex\", \"QD3\"]]\n",
    "Categorical_Sex = df_Sex.groupby('Sex')['QD3'].apply(list)\n",
    "AnovaResults = f_oneway(*Categorical_Sex)\n",
    "print('P-value for Anova is: ', AnovaResults[1])"
   ]
  },
  {
   "cell_type": "markdown",
   "id": "803ce5aa",
   "metadata": {},
   "source": [
    "<strong><u>Nhận xét</u></strong>\n",
    "<p>Vì P-value > 0.05 thế nên không thể bác bỏ H0, nên không tìm ra sự khác biệt trong quyết định tin rằng MSB là nơi quyết định sáng suốt cho gửi tiền của đặc trưng giới tính của khách hàng</p>"
   ]
  },
  {
   "cell_type": "markdown",
   "id": "af093851",
   "metadata": {},
   "source": [
    "<strong>Công việc</strong> "
   ]
  },
  {
   "cell_type": "code",
   "execution_count": 289,
   "id": "1856f1a2",
   "metadata": {},
   "outputs": [
    {
     "name": "stdout",
     "output_type": "stream",
     "text": [
      "p-value for Anova is:  0.7175494443280028\n"
     ]
    }
   ],
   "source": [
    "df_job = stt_data[['Job','QD3']]\n",
    "Categorical_Job = df_job.groupby('Job')['QD3'].apply(list)\n",
    "AnovaResult_Job = f_oneway(*Categorical_Job)\n",
    "print('p-value for Anova is: ', AnovaResult_Job[1])"
   ]
  },
  {
   "cell_type": "markdown",
   "id": "ba979c02",
   "metadata": {},
   "source": [
    "<strong><u>Nhận xét</u></strong>\n",
    "<p>Vì P-value > 0.05 thế nên không thể bác bỏ H0, nên không tìm ra sự khác biệt trong quyết định tin rằng MSB là nơi quyết định sáng suốt cho gửi tiền của đặc trưng công việc của khách hàng</p>"
   ]
  },
  {
   "cell_type": "markdown",
   "id": "013db11a",
   "metadata": {},
   "source": [
    "<strong>Độ tuổi</strong>"
   ]
  },
  {
   "cell_type": "code",
   "execution_count": 290,
   "id": "f1464d01",
   "metadata": {},
   "outputs": [
    {
     "name": "stdout",
     "output_type": "stream",
     "text": [
      "p-value for Anova is:  0.07288213194517867\n"
     ]
    }
   ],
   "source": [
    "df_old = stt_data[['Old','QD3']]\n",
    "Categorical_old = df_old.groupby('Old')['QD3'].apply(list)\n",
    "AnovaResult_old = f_oneway(*Categorical_old)\n",
    "print('p-value for Anova is: ', AnovaResult_old[1])"
   ]
  },
  {
   "cell_type": "markdown",
   "id": "2e9c6e8b",
   "metadata": {},
   "source": [
    "<strong><u>Nhận xét</u></strong>\n",
    "<p>Vì P-value > 0.05 thế nên không thể bác bỏ H0, nên không tìm ra sự khác biệt trong quyết định tin rằng MSB là nơi quyết định sáng suốt cho gửi tiền của đặc trưng độ tuổi của khách hàng</p>"
   ]
  },
  {
   "cell_type": "markdown",
   "id": "711057bc",
   "metadata": {},
   "source": [
    "<strong>Trình độ</strong>"
   ]
  },
  {
   "cell_type": "code",
   "execution_count": 293,
   "id": "b6962bc8",
   "metadata": {},
   "outputs": [
    {
     "name": "stdout",
     "output_type": "stream",
     "text": [
      "p-value for Anova is:  0.09034483236129799\n"
     ]
    }
   ],
   "source": [
    "df_grade = stt_data[['Study','QD3']]\n",
    "Categorical_study = df_grade.groupby('Study')['QD3'].apply(list)\n",
    "AnovaResult_grade = f_oneway(*Categorical_study)\n",
    "print('p-value for Anova is: ', AnovaResult_grade[1])"
   ]
  },
  {
   "cell_type": "markdown",
   "id": "e45ed3c7",
   "metadata": {},
   "source": [
    "<strong><u>Nhận xét</u></strong>\n",
    "<p>Vì P-value > 0.05 thế nên không thể bác bỏ H0, nên không tìm ra sự khác biệt trong quyết định tin rằng MSB là nơi quyết định sáng suốt cho gửi tiền của đặc trưng trình độ của khách hàng</p>"
   ]
  },
  {
   "cell_type": "markdown",
   "id": "ad4785be",
   "metadata": {},
   "source": [
    "<strong>Mức lương </strong>"
   ]
  },
  {
   "cell_type": "code",
   "execution_count": 295,
   "id": "89f260ca",
   "metadata": {},
   "outputs": [
    {
     "name": "stdout",
     "output_type": "stream",
     "text": [
      "p-value for Anova is:  0.015376701091499191\n"
     ]
    }
   ],
   "source": [
    "df_salary = stt_data[[\"Salary\", \"QD3\"]]\n",
    "Categorical_Salary = df_salary.groupby(\"Salary\")['QD3'].apply(list)\n",
    "AnovaResult_Salary = f_oneway(*Categorical_Salary)\n",
    "print('p-value for Anova is: ', AnovaResult_Salary[1])"
   ]
  },
  {
   "cell_type": "markdown",
   "id": "7a8236fe",
   "metadata": {},
   "source": [
    "<strong><u>Nhận xét: </u></strong>\n",
    "<p>Vì p-value nhỏ hơn 0.05, nên bác bỏ H0 và chấp nhận H1. Có sự khác biệt giữa quyết định tin tưởng lựa chọn khi gửi tiền tại MSB chi nhánh Đô Thành là sáng suốt với những khách hàng có mức lương khác nhau </p>"
   ]
  },
  {
   "cell_type": "markdown",
   "id": "6f35c3fe",
   "metadata": {},
   "source": [
    "<strong>Phương thức</strong>"
   ]
  },
  {
   "cell_type": "code",
   "execution_count": 297,
   "id": "2717db6e",
   "metadata": {},
   "outputs": [
    {
     "name": "stdout",
     "output_type": "stream",
     "text": [
      "p-value for Anova is:  0.009379524154535294\n"
     ]
    }
   ],
   "source": [
    "df_method = stt_data[[\"Method\", \"QD3\"]]\n",
    "Categorical_method = df_method.groupby(\"Method\")['QD3'].apply(list)\n",
    "AnovaResult_method = f_oneway(*Categorical_method)\n",
    "print('p-value for Anova is: ', AnovaResult_method[1])"
   ]
  },
  {
   "cell_type": "markdown",
   "id": "0a51da43",
   "metadata": {},
   "source": [
    "<strong><u>Nhận xét: </u></strong>\n",
    "<p>Vì p-value nhỏ hơn 0.05, nên bác bỏ H0 và chấp nhận H1. Có sự khác biệt giữa quyết định tin tưởng lựa chọn khi gửi tiền tại MSB chi nhánh Đô Thành là sáng suốt với những khách hàng có phương thức gửi tiền khác nhau </p>"
   ]
  },
  {
   "cell_type": "markdown",
   "id": "beeeaa99",
   "metadata": {},
   "source": [
    "<strong>Kỳ hạn gửi</strong>"
   ]
  },
  {
   "cell_type": "code",
   "execution_count": 299,
   "id": "b27190b2",
   "metadata": {},
   "outputs": [
    {
     "name": "stdout",
     "output_type": "stream",
     "text": [
      "p-value for Anova is:  0.04430364572565748\n"
     ]
    }
   ],
   "source": [
    "df_time= stt_data[[\"Time\", \"QD3\"]]\n",
    "Categorical_time = df_time.groupby('Time')['QD3'].apply(list)\n",
    "AnovaResult_time = f_oneway(*Categorical_time)\n",
    "print('p-value for Anova is: ', AnovaResult_time[1])"
   ]
  },
  {
   "cell_type": "markdown",
   "id": "6d97517d",
   "metadata": {},
   "source": [
    "<strong><u>Nhận xét: </u></strong>\n",
    "<p>Vì p-value nhỏ hơn 0.05, nên bác bỏ H0 và chấp nhận H1. Có sự khác biệt giữa quyết định tin tưởng lựa chọn khi gửi tiền tại MSB chi nhánh Đô Thành là sáng suốt với những khách hàng có kỳ hạn gửi tiền khác nhau </p>"
   ]
  },
  {
   "cell_type": "markdown",
   "id": "7dd91ceb",
   "metadata": {},
   "source": [
    "### Quyết định 4 : Tôi sẽ giới thiệu những người có mối quan hệ gần gũi, thân thiết gửi tiền tiết kiệm tại MSB - CN Đô Thành"
   ]
  },
  {
   "cell_type": "markdown",
   "id": "07d1530b",
   "metadata": {},
   "source": [
    "<strong>Đặc điểm nhân khẩu học và hành vi</strong>"
   ]
  },
  {
   "cell_type": "markdown",
   "id": "f2d3fb85",
   "metadata": {},
   "source": [
    "<strong>Giới tính </strong>"
   ]
  },
  {
   "cell_type": "code",
   "execution_count": 302,
   "id": "1cfd62dd",
   "metadata": {},
   "outputs": [
    {
     "name": "stdout",
     "output_type": "stream",
     "text": [
      "P-value for Anova is:  0.18320852687926173\n"
     ]
    }
   ],
   "source": [
    "df_Sex = stt_data[[\"Sex\", \"QD4\"]]\n",
    "Categorical_Sex = df_Sex.groupby('Sex')['QD4'].apply(list)\n",
    "AnovaResults = f_oneway(*Categorical_Sex)\n",
    "print('P-value for Anova is: ', AnovaResults[1])"
   ]
  },
  {
   "cell_type": "markdown",
   "id": "899ddd85",
   "metadata": {},
   "source": [
    "<strong><u>Nhận xét</u></strong>\n",
    "<p>Vì P-value > 0.05 thế nên không thể bác bỏ H0, nên không tìm ra sự khác biệt trong quyết định giới thiệu người thân bạn bè của đặc trưng giới tính của khách hàng</p>"
   ]
  },
  {
   "cell_type": "markdown",
   "id": "3182d4e5",
   "metadata": {},
   "source": [
    "<strong>Công việc</strong> "
   ]
  },
  {
   "cell_type": "code",
   "execution_count": 305,
   "id": "e7c3b6a7",
   "metadata": {},
   "outputs": [
    {
     "name": "stdout",
     "output_type": "stream",
     "text": [
      "p-value for Anova is:  0.08486525037367414\n"
     ]
    }
   ],
   "source": [
    "df_job = stt_data[['Job','QD4']]\n",
    "Categorical_Job = df_job.groupby('Job')['QD4'].apply(list)\n",
    "AnovaResult_Job = f_oneway(*Categorical_Job)\n",
    "print('p-value for Anova is: ', AnovaResult_Job[1])"
   ]
  },
  {
   "cell_type": "markdown",
   "id": "7028f04d",
   "metadata": {},
   "source": [
    "<strong><u>Nhận xét</u></strong>\n",
    "<p>Vì P-value > 0.05 thế nên không thể bác bỏ H0, nên không tìm ra sự khác biệt trong quyết định giới thiệu người thân bạn bè của đặc trưng công việc của khách hàng</p>"
   ]
  },
  {
   "cell_type": "markdown",
   "id": "6428ff6e",
   "metadata": {},
   "source": [
    "<strong>Độ tuổi</strong>"
   ]
  },
  {
   "cell_type": "code",
   "execution_count": 308,
   "id": "4f64f041",
   "metadata": {},
   "outputs": [
    {
     "name": "stdout",
     "output_type": "stream",
     "text": [
      "p-value for Anova is:  0.011926582117324553\n"
     ]
    }
   ],
   "source": [
    "df_old = stt_data[['Old','QD4']]\n",
    "Categorical_old = df_old.groupby('Old')['QD4'].apply(list)\n",
    "AnovaResult_old = f_oneway(*Categorical_old)\n",
    "print('p-value for Anova is: ', AnovaResult_old[1])"
   ]
  },
  {
   "cell_type": "markdown",
   "id": "334d9d50",
   "metadata": {},
   "source": [
    "<strong><u>Nhận xét: </u></strong>\n",
    "<p>Vì p-value nhỏ hơn 0.05, nên bác bỏ H0 và chấp nhận H1. Có sự khác biệt giữa quyết định giới thiệu cho người thân bạn bè với những khách hàng có độ tuổi  khác nhau </p>"
   ]
  },
  {
   "cell_type": "markdown",
   "id": "52f6d7c3",
   "metadata": {},
   "source": [
    "<strong>Trình độ</strong>"
   ]
  },
  {
   "cell_type": "code",
   "execution_count": 309,
   "id": "487a3aa4",
   "metadata": {},
   "outputs": [
    {
     "name": "stdout",
     "output_type": "stream",
     "text": [
      "p-value for Anova is:  0.09034483236129799\n"
     ]
    }
   ],
   "source": [
    "df_grade = stt_data[['Study','QD3']]\n",
    "Categorical_study = df_grade.groupby('Study')['QD3'].apply(list)\n",
    "AnovaResult_grade = f_oneway(*Categorical_study)\n",
    "print('p-value for Anova is: ', AnovaResult_grade[1])"
   ]
  },
  {
   "cell_type": "markdown",
   "id": "f30ac421",
   "metadata": {},
   "source": [
    "<strong><u>Nhận xét</u></strong>\n",
    "<p>Vì P-value > 0.05 thế nên không thể bác bỏ H0, nên không tìm ra sự khác biệt trong quyết định giới thiệu người thân bạn bè của đặc trưng trình độ của khách hàng</p>"
   ]
  },
  {
   "cell_type": "markdown",
   "id": "54995024",
   "metadata": {},
   "source": [
    "<strong>Mức lương</strong>"
   ]
  },
  {
   "cell_type": "code",
   "execution_count": 312,
   "id": "a2098bdd",
   "metadata": {},
   "outputs": [
    {
     "name": "stdout",
     "output_type": "stream",
     "text": [
      "p-value for Anova is:  0.28430079312330575\n"
     ]
    }
   ],
   "source": [
    "df_salary = stt_data[[\"Salary\", \"QD4\"]]\n",
    "Categorical_Salary = df_salary.groupby(\"Salary\")['QD4'].apply(list)\n",
    "AnovaResult_Salary = f_oneway(*Categorical_Salary)\n",
    "print('p-value for Anova is: ', AnovaResult_Salary[1])"
   ]
  },
  {
   "cell_type": "markdown",
   "id": "daefd99c",
   "metadata": {},
   "source": [
    "<strong><u>Nhận xét</u></strong>\n",
    "<p>Vì P-value > 0.05 thế nên không thể bác bỏ H0, nên không tìm ra sự khác biệt trong quyết định giới thiệu người thân bạn bè của đặc trưng mức lương của khách hàng</p>"
   ]
  },
  {
   "cell_type": "markdown",
   "id": "4afca535",
   "metadata": {},
   "source": [
    "<strong>Phương thức</strong>"
   ]
  },
  {
   "cell_type": "code",
   "execution_count": 314,
   "id": "48f5bf96",
   "metadata": {},
   "outputs": [
    {
     "name": "stdout",
     "output_type": "stream",
     "text": [
      "p-value for Anova is:  0.1407396724534009\n"
     ]
    }
   ],
   "source": [
    "df_method = stt_data[[\"Method\", \"QD4\"]]\n",
    "Categorical_method = df_method.groupby(\"Method\")['QD4'].apply(list)\n",
    "AnovaResult_method = f_oneway(*Categorical_method)\n",
    "print('p-value for Anova is: ', AnovaResult_method[1])"
   ]
  },
  {
   "cell_type": "markdown",
   "id": "023143f5",
   "metadata": {},
   "source": [
    "<strong><u>Nhận xét</u></strong>\n",
    "<p>Vì P-value > 0.05 thế nên không thể bác bỏ H0, nên không tìm ra sự khác biệt trong quyết định giới thiệu người thân bạn bè của đặc trưng mức lương của khách hàng</p>"
   ]
  },
  {
   "cell_type": "markdown",
   "id": "370f91d4",
   "metadata": {},
   "source": [
    "<strong>Kỳ hạn gửi</strong>"
   ]
  },
  {
   "cell_type": "code",
   "execution_count": 316,
   "id": "ca305daf",
   "metadata": {},
   "outputs": [
    {
     "name": "stdout",
     "output_type": "stream",
     "text": [
      "p-value for Anova is:  0.007214707681874079\n"
     ]
    }
   ],
   "source": [
    "df_time= stt_data[[\"Time\", \"QD4\"]]\n",
    "Categorical_time = df_time.groupby('Time')['QD4'].apply(list)\n",
    "AnovaResult_time = f_oneway(*Categorical_time)\n",
    "print('p-value for Anova is: ', AnovaResult_time[1])"
   ]
  },
  {
   "cell_type": "markdown",
   "id": "79e3fb32",
   "metadata": {},
   "source": [
    "<strong><u>Nhận xét: </u></strong>\n",
    "<p>Vì p-value nhỏ hơn 0.05, nên bác bỏ H0 và chấp nhận H1. Có sự khác biệt giữa quyết định giới thiệu cho người thân bạn bè với những khách hàng có kỳ hạn gửi khác nhau </p>"
   ]
  }
 ],
 "metadata": {
  "kernelspec": {
   "display_name": "Python 3 (ipykernel)",
   "language": "python",
   "name": "python3"
  },
  "language_info": {
   "codemirror_mode": {
    "name": "ipython",
    "version": 3
   },
   "file_extension": ".py",
   "mimetype": "text/x-python",
   "name": "python",
   "nbconvert_exporter": "python",
   "pygments_lexer": "ipython3",
   "version": "3.9.13"
  }
 },
 "nbformat": 4,
 "nbformat_minor": 5
}
